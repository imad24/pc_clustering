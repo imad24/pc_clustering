{
 "cells": [
  {
   "cell_type": "markdown",
   "metadata": {},
   "source": [
    "# Preparing environment"
   ]
  },
  {
   "cell_type": "code",
   "execution_count": 881,
   "metadata": {},
   "outputs": [
    {
     "name": "stdout",
     "output_type": "stream",
     "text": [
      "The autoreload extension is already loaded. To reload it, use:\n",
      "  %reload_ext autoreload\n"
     ]
    }
   ],
   "source": [
    "# Load the \"autoreload\" extension\n",
    "%load_ext autoreload\n",
    "# always reload modules marked with \"%aimport\"\n",
    "%autoreload 1\n",
    "\n",
    "import os\n",
    "import sys\n",
    "# add the 'src' directory as one where we can import modules\n",
    "root_dir = os.path.join(os.getcwd(),os.pardir,os.pardir)\n",
    "src_dir = os.path.join(root_dir, 'src')\n",
    "if src_dir not in sys.path: sys.path.append(src_dir)\n",
    "    \n",
    "import math\n",
    "import copy as cp\n",
    "from datetime import datetime\n",
    "\n",
    "import numpy as np\n",
    "import pandas as pd\n",
    "\n",
    "import matplotlib.style\n",
    "import matplotlib as mpl\n",
    "import matplotlib.pyplot as plt\n",
    "import seaborn as sns\n",
    "\n",
    "from sklearn.decomposition import PCA\n",
    "from sklearn.cluster import KMeans,Birch,AgglomerativeClustering\n",
    "from sklearn.manifold import TSNE\n",
    "from sklearn import preprocessing\n",
    "\n",
    "from scipy.cluster import hierarchy\n",
    "from scipy import stats\n",
    "from scipy.stats import mstats\n",
    "\n",
    "import helpers as hlp\n",
    "%aimport helpers\n",
    "%aimport holt\n",
    "%aimport holtwinters\n",
    "from external import kMedoids\n",
    "from IPython.display import display\n",
    "\n",
    "from dotenv import find_dotenv, load_dotenv\n",
    "#Load env vars\n",
    "load_dotenv(find_dotenv())\n",
    "\n",
    "import helpers as hlp\n",
    "%aimport helpers\n",
    "from data import preprocessing as prp\n",
    "%aimport data.preprocessing\n",
    "\n",
    "#printing\n",
    "pd.options.display.float_format = '{:,.2f}'.format\n",
    "\n",
    "subfolder = os.getenv(\"SUBFOLDER\")\n",
    "PREFIX = os.getenv(\"PREFIX\")\n",
    "raw_path = os.path.join(root_dir,\"data\\\\raw\\\\\",subfolder)\n",
    "interim_path = os.path.join(root_dir,\"data\\\\interim\\\\\",subfolder) \n",
    "processed_path = os.path.join(root_dir,\"data\\\\processed\\\\\",subfolder) \n",
    "\n",
    "reports_path = os.path.join(root_dir,\"reports\\\\\",subfolder)\n",
    "models_path = os.path.join(root_dir,\"models\\\\\",subfolder)\n"
   ]
  },
  {
   "cell_type": "markdown",
   "metadata": {},
   "source": [
    "#  Predict Quantities"
   ]
  },
  {
   "cell_type": "markdown",
   "metadata": {},
   "source": [
    "## Load product cleaned features"
   ]
  },
  {
   "cell_type": "code",
   "execution_count": 884,
   "metadata": {},
   "outputs": [
    {
     "name": "stdout",
     "output_type": "stream",
     "text": [
      "Data set succefully made !\n",
      "encoders saved\n"
     ]
    },
    {
     "name": "stderr",
     "output_type": "stream",
     "text": [
      "C:\\Users\\rahmim00\\AppData\\Local\\Continuum\\anaconda3\\envs\\dev_py34\\lib\\site-packages\\IPython\\html.py:14: ShimWarning: The `IPython.html` package has been deprecated since IPython 4.0. You should import from `notebook` instead. `IPython.html.widgets` has moved to `ipywidgets`.\n",
      "  \"`IPython.html.widgets` has moved to `ipywidgets`.\", ShimWarning)\n"
     ]
    }
   ],
   "source": [
    "! python c:/Users/rahmim00/Documents/Notebooks/Clustering/pc_clustering/src/features/build_features.py"
   ]
  },
  {
   "cell_type": "markdown",
   "metadata": {},
   "source": [
    "### Other sales series files"
   ]
  },
  {
   "cell_type": "code",
   "execution_count": 887,
   "metadata": {
    "scrolled": true
   },
   "outputs": [
    {
     "name": "stdout",
     "output_type": "stream",
     "text": [
      "(7037, 10)\n"
     ]
    },
    {
     "data": {
      "text/plain": [
       "(7037, 188)"
      ]
     },
     "execution_count": 887,
     "metadata": {},
     "output_type": "execute_result"
    }
   ],
   "source": [
    "s=\"all\"\n",
    "clean_df = prp.load_file(\"product_p2_clean_full_%s\"%s, type_= \"I\",version=1).set_index(\"Product\").astype(np.float64)\n",
    "zclean_df = prp.load_file(\"product_z_p2_clean_%s\"%s, type_= \"P\",version=1).set_index(\"Product\").astype(np.float64)\n",
    "filename =\"clf_features\"\n",
    "\n",
    "#Load cleaned features for classification\n",
    "df = prp.load_file(filename,type_=\"P\",index = \"Product\")\n",
    "df.Ldate = df.Ldate.apply(lambda x:str(x))\n",
    "df.Tprice = df.Tprice.astype(np.float64)\n",
    "#df.drop_duplicates(inplace=True)\n",
    "print(df.shape)\n",
    "df.head()\n",
    "ohe = prp.encode(df,non_categorical=[\"Tprice\"])\n",
    "\n",
    "ohe.shape"
   ]
  },
  {
   "cell_type": "markdown",
   "metadata": {},
   "source": [
    "### Prepare training data"
   ]
  },
  {
   "cell_type": "code",
   "execution_count": 891,
   "metadata": {},
   "outputs": [
    {
     "name": "stdout",
     "output_type": "stream",
     "text": [
      "(3529, 188) (3529,)\n"
     ]
    },
    {
     "data": {
      "text/html": [
       "<div>\n",
       "<table border=\"1\" class=\"dataframe\">\n",
       "  <thead>\n",
       "    <tr style=\"text-align: right;\">\n",
       "      <th></th>\n",
       "      <th>Currency_$</th>\n",
       "      <th>Currency_Y</th>\n",
       "      <th>Age Group_10-15</th>\n",
       "      <th>Age Group_18-28</th>\n",
       "      <th>Age Group_29-38</th>\n",
       "      <th>Age Group_39-48</th>\n",
       "      <th>Age Group_4-6</th>\n",
       "      <th>Age Group_7-9</th>\n",
       "      <th>Age Group_Cross-age Group</th>\n",
       "      <th>Ldate_1</th>\n",
       "      <th>...</th>\n",
       "      <th>Ptype_Stealth Socks</th>\n",
       "      <th>Ptype_Stockings</th>\n",
       "      <th>Ptype_Thick</th>\n",
       "      <th>Ptype_Thicker</th>\n",
       "      <th>Ptype_Thin</th>\n",
       "      <th>Ptype_Tights</th>\n",
       "      <th>Ptype_Tube Socks</th>\n",
       "      <th>Ptype_Velvet</th>\n",
       "      <th>Ptype_Wool Socks</th>\n",
       "      <th>Tprice</th>\n",
       "    </tr>\n",
       "    <tr>\n",
       "      <th>Product</th>\n",
       "      <th></th>\n",
       "      <th></th>\n",
       "      <th></th>\n",
       "      <th></th>\n",
       "      <th></th>\n",
       "      <th></th>\n",
       "      <th></th>\n",
       "      <th></th>\n",
       "      <th></th>\n",
       "      <th></th>\n",
       "      <th></th>\n",
       "      <th></th>\n",
       "      <th></th>\n",
       "      <th></th>\n",
       "      <th></th>\n",
       "      <th></th>\n",
       "      <th></th>\n",
       "      <th></th>\n",
       "      <th></th>\n",
       "      <th></th>\n",
       "      <th></th>\n",
       "    </tr>\n",
       "  </thead>\n",
       "  <tbody>\n",
       "    <tr>\n",
       "      <th>3.6E+101_2</th>\n",
       "      <td>0.00</td>\n",
       "      <td>0.00</td>\n",
       "      <td>1.00</td>\n",
       "      <td>0.00</td>\n",
       "      <td>0.00</td>\n",
       "      <td>0.00</td>\n",
       "      <td>0.00</td>\n",
       "      <td>0.00</td>\n",
       "      <td>0.00</td>\n",
       "      <td>0.00</td>\n",
       "      <td>...</td>\n",
       "      <td>0.00</td>\n",
       "      <td>0.00</td>\n",
       "      <td>0.00</td>\n",
       "      <td>0.00</td>\n",
       "      <td>0.00</td>\n",
       "      <td>0.00</td>\n",
       "      <td>1.00</td>\n",
       "      <td>0.00</td>\n",
       "      <td>0.00</td>\n",
       "      <td>0.13</td>\n",
       "    </tr>\n",
       "    <tr>\n",
       "      <th>30E000400_2</th>\n",
       "      <td>0.00</td>\n",
       "      <td>0.00</td>\n",
       "      <td>0.00</td>\n",
       "      <td>0.00</td>\n",
       "      <td>1.00</td>\n",
       "      <td>0.00</td>\n",
       "      <td>0.00</td>\n",
       "      <td>1.00</td>\n",
       "      <td>0.00</td>\n",
       "      <td>0.00</td>\n",
       "      <td>...</td>\n",
       "      <td>0.00</td>\n",
       "      <td>0.00</td>\n",
       "      <td>0.00</td>\n",
       "      <td>0.00</td>\n",
       "      <td>0.00</td>\n",
       "      <td>0.00</td>\n",
       "      <td>1.00</td>\n",
       "      <td>0.00</td>\n",
       "      <td>0.00</td>\n",
       "      <td>0.11</td>\n",
       "    </tr>\n",
       "    <tr>\n",
       "      <th>30E823101_2</th>\n",
       "      <td>0.00</td>\n",
       "      <td>0.00</td>\n",
       "      <td>0.00</td>\n",
       "      <td>0.00</td>\n",
       "      <td>1.00</td>\n",
       "      <td>0.00</td>\n",
       "      <td>0.00</td>\n",
       "      <td>0.00</td>\n",
       "      <td>0.00</td>\n",
       "      <td>0.00</td>\n",
       "      <td>...</td>\n",
       "      <td>0.00</td>\n",
       "      <td>0.00</td>\n",
       "      <td>0.00</td>\n",
       "      <td>0.00</td>\n",
       "      <td>1.00</td>\n",
       "      <td>0.00</td>\n",
       "      <td>0.00</td>\n",
       "      <td>0.00</td>\n",
       "      <td>0.00</td>\n",
       "      <td>0.11</td>\n",
       "    </tr>\n",
       "    <tr>\n",
       "      <th>30E823102_2</th>\n",
       "      <td>0.00</td>\n",
       "      <td>0.00</td>\n",
       "      <td>0.00</td>\n",
       "      <td>0.00</td>\n",
       "      <td>0.00</td>\n",
       "      <td>1.00</td>\n",
       "      <td>0.00</td>\n",
       "      <td>0.00</td>\n",
       "      <td>0.00</td>\n",
       "      <td>0.00</td>\n",
       "      <td>...</td>\n",
       "      <td>0.00</td>\n",
       "      <td>0.00</td>\n",
       "      <td>0.00</td>\n",
       "      <td>0.00</td>\n",
       "      <td>1.00</td>\n",
       "      <td>0.00</td>\n",
       "      <td>0.00</td>\n",
       "      <td>0.00</td>\n",
       "      <td>0.00</td>\n",
       "      <td>0.11</td>\n",
       "    </tr>\n",
       "    <tr>\n",
       "      <th>30E823103_2</th>\n",
       "      <td>1.00</td>\n",
       "      <td>0.00</td>\n",
       "      <td>0.00</td>\n",
       "      <td>0.00</td>\n",
       "      <td>0.00</td>\n",
       "      <td>0.00</td>\n",
       "      <td>0.00</td>\n",
       "      <td>0.00</td>\n",
       "      <td>0.00</td>\n",
       "      <td>0.00</td>\n",
       "      <td>...</td>\n",
       "      <td>0.00</td>\n",
       "      <td>0.00</td>\n",
       "      <td>0.00</td>\n",
       "      <td>0.00</td>\n",
       "      <td>1.00</td>\n",
       "      <td>0.00</td>\n",
       "      <td>0.00</td>\n",
       "      <td>0.00</td>\n",
       "      <td>0.00</td>\n",
       "      <td>0.11</td>\n",
       "    </tr>\n",
       "  </tbody>\n",
       "</table>\n",
       "<p>5 rows × 188 columns</p>\n",
       "</div>"
      ],
      "text/plain": [
       "             Currency_$  Currency_Y  Age Group_10-15  Age Group_18-28  \\\n",
       "Product                                                                 \n",
       "3.6E+101_2         0.00        0.00             1.00             0.00   \n",
       "30E000400_2        0.00        0.00             0.00             0.00   \n",
       "30E823101_2        0.00        0.00             0.00             0.00   \n",
       "30E823102_2        0.00        0.00             0.00             0.00   \n",
       "30E823103_2        1.00        0.00             0.00             0.00   \n",
       "\n",
       "             Age Group_29-38  Age Group_39-48  Age Group_4-6  Age Group_7-9  \\\n",
       "Product                                                                       \n",
       "3.6E+101_2              0.00             0.00           0.00           0.00   \n",
       "30E000400_2             1.00             0.00           0.00           1.00   \n",
       "30E823101_2             1.00             0.00           0.00           0.00   \n",
       "30E823102_2             0.00             1.00           0.00           0.00   \n",
       "30E823103_2             0.00             0.00           0.00           0.00   \n",
       "\n",
       "             Age Group_Cross-age Group  Ldate_1   ...    Ptype_Stealth Socks  \\\n",
       "Product                                           ...                          \n",
       "3.6E+101_2                        0.00     0.00   ...                   0.00   \n",
       "30E000400_2                       0.00     0.00   ...                   0.00   \n",
       "30E823101_2                       0.00     0.00   ...                   0.00   \n",
       "30E823102_2                       0.00     0.00   ...                   0.00   \n",
       "30E823103_2                       0.00     0.00   ...                   0.00   \n",
       "\n",
       "             Ptype_Stockings  Ptype_Thick  Ptype_Thicker  Ptype_Thin  \\\n",
       "Product                                                                \n",
       "3.6E+101_2              0.00         0.00           0.00        0.00   \n",
       "30E000400_2             0.00         0.00           0.00        0.00   \n",
       "30E823101_2             0.00         0.00           0.00        1.00   \n",
       "30E823102_2             0.00         0.00           0.00        1.00   \n",
       "30E823103_2             0.00         0.00           0.00        1.00   \n",
       "\n",
       "             Ptype_Tights  Ptype_Tube Socks  Ptype_Velvet  Ptype_Wool Socks  \\\n",
       "Product                                                                       \n",
       "3.6E+101_2           0.00              1.00          0.00              0.00   \n",
       "30E000400_2          0.00              1.00          0.00              0.00   \n",
       "30E823101_2          0.00              0.00          0.00              0.00   \n",
       "30E823102_2          0.00              0.00          0.00              0.00   \n",
       "30E823103_2          0.00              0.00          0.00              0.00   \n",
       "\n",
       "             Tprice  \n",
       "Product              \n",
       "3.6E+101_2     0.13  \n",
       "30E000400_2    0.11  \n",
       "30E823101_2    0.11  \n",
       "30E823102_2    0.11  \n",
       "30E823103_2    0.11  \n",
       "\n",
       "[5 rows x 188 columns]"
      ]
     },
     "execution_count": 891,
     "metadata": {},
     "output_type": "execute_result"
    }
   ],
   "source": [
    "from sklearn.ensemble import RandomForestRegressor\n",
    "from sklearn.datasets import make_regression\n",
    "from sklearn.svm import SVR\n",
    "from sklearn.neural_network import MLPRegressor\n",
    "from sklearn.model_selection import cross_val_score\n",
    "from sklearn.model_selection import train_test_split  \n",
    "from sklearn.metrics import explained_variance_score,mean_squared_error,r2_score\n",
    "\n",
    "\n",
    "\n",
    "\n",
    "data = df.join(clean_df,how=\"inner\")\n",
    "features = df.columns\n",
    "\n",
    "X_data = data[features]\n",
    "\n",
    "series = data.drop(features,axis=1)\n",
    "y_data = np.array([series.mean(axis=1), series.std(axis = 1)]).T\n",
    "y_data = np.array(series.std(axis = 1)).T\n",
    "\n",
    "#Keep the same X with features\n",
    "# X =  pd.get_dummies(X_data)\n",
    "X = prp.encode(X_data,non_categorical = [\"Tprice\"])\n",
    "y = y_data\n",
    "\n",
    "print(X.shape,y.shape)\n",
    "X.head()"
   ]
  },
  {
   "cell_type": "markdown",
   "metadata": {},
   "source": [
    "### Train regressor"
   ]
  },
  {
   "cell_type": "code",
   "execution_count": 950,
   "metadata": {},
   "outputs": [
    {
     "name": "stdout",
     "output_type": "stream",
     "text": [
      "Train\n",
      "RMSE:  323.113820098547\n",
      "R2:  0.840826119947\n",
      "\n",
      "Test\n",
      "RMSE:  642.0222715298135\n",
      "R2:  0.628793755172\n"
     ]
    }
   ],
   "source": [
    "X_train, X_test, y_train, y_test = train_test_split(X, y, test_size=0.2) \n",
    "regr = RandomForestRegressor(n_estimators=30,max_depth =None )\n",
    "# regr = MLPRegressor(solver=\"lbfgs\",hidden_layer_sizes=(5))\n",
    "\n",
    "regr.fit(X_train, y_train)\n",
    "\n",
    "y_pred = regr.predict(X_test)\n",
    "yt_pred = regr.predict(X_train)\n",
    "\n",
    "MU = \"uniform_average\"\n",
    "\n",
    "\n",
    "def adjusted_r2(X,y,r_squared):\n",
    "    return r_squared\n",
    "#     return  1 - ((1-r_squared)*(len(y)-1)/(len(y)-X.shape[1]-1))\n",
    "\n",
    "\n",
    "# scores = cross_val_score(regr, X, y, cv=2, scoring='r2')\n",
    "# print(scores)\n",
    "\n",
    "print(\"Train\")\n",
    "rmse = math.sqrt(mean_squared_error(yt_pred,y_train,multioutput=MU))\n",
    "print(\"RMSE: \",rmse)\n",
    "r2 = r2_score(yt_pred,y_train,multioutput=MU)\n",
    "print(\"R2: \",adjusted_r2(X_train,y_train,r2))\n",
    "print(\"\\nTest\")\n",
    "rmse = math.sqrt(mean_squared_error(y_pred,y_test,multioutput=MU))\n",
    "print(\"RMSE: \",rmse)\n",
    "r2 = r2_score(y_pred,y_test,multioutput=MU)\n",
    "print(\"R2: \",adjusted_r2(X_test,y_test,r2))"
   ]
  },
  {
   "cell_type": "markdown",
   "metadata": {},
   "source": [
    "### Save model"
   ]
  },
  {
   "cell_type": "code",
   "execution_count": 877,
   "metadata": {},
   "outputs": [
    {
     "data": {
      "text/plain": [
       "['C:\\\\Users\\\\rahmim00\\\\Documents\\\\Notebooks\\\\Clustering\\\\pc_clustering\\\\notebooks\\\\Cerf7\\\\..\\\\..\\\\models\\\\7CERF\\\\estimator.pkl']"
      ]
     },
     "execution_count": 877,
     "metadata": {},
     "output_type": "execute_result"
    }
   ],
   "source": [
    "import pickle\n",
    "from sklearn.externals import joblib\n",
    "\n",
    "joblib.dump(regr,models_path+'estimator.pkl') "
   ]
  },
  {
   "cell_type": "code",
   "execution_count": 624,
   "metadata": {},
   "outputs": [
    {
     "data": {
      "image/png": "[encoded data removed]",
      "text/plain": [
       "<matplotlib.figure.Figure at 0x18a0dd30>"
      ]
     },
     "metadata": {},
     "output_type": "display_data"
    }
   ],
   "source": [
    "fi = regr.feature_importances_\n",
    "sorted_indices = np.argsort(fi)[::-1]\n",
    "\n",
    "imp = sorted_indices[:30]\n",
    "\n",
    "plt.bar(range(len(imp)),fi[imp])\n",
    "plt.xticks(range(len(imp)), X.columns[imp],rotation = 90)\n",
    "plt.show()"
   ]
  },
  {
   "cell_type": "markdown",
   "metadata": {},
   "source": [
    "\n"
   ]
  },
  {
   "cell_type": "markdown",
   "metadata": {},
   "source": [
    "\n"
   ]
  },
  {
   "cell_type": "markdown",
   "metadata": {},
   "source": [
    "\n"
   ]
  },
  {
   "cell_type": "markdown",
   "metadata": {},
   "source": [
    "\n"
   ]
  },
  {
   "cell_type": "markdown",
   "metadata": {},
   "source": [
    "\n"
   ]
  },
  {
   "cell_type": "markdown",
   "metadata": {},
   "source": [
    "\n"
   ]
  },
  {
   "cell_type": "markdown",
   "metadata": {},
   "source": [
    "\n"
   ]
  },
  {
   "cell_type": "markdown",
   "metadata": {},
   "source": [
    "\n"
   ]
  },
  {
   "cell_type": "markdown",
   "metadata": {},
   "source": [
    "\n"
   ]
  },
  {
   "cell_type": "markdown",
   "metadata": {},
   "source": [
    "\n"
   ]
  },
  {
   "cell_type": "markdown",
   "metadata": {},
   "source": [
    "\n"
   ]
  },
  {
   "cell_type": "markdown",
   "metadata": {},
   "source": [
    "\n"
   ]
  }
 ],
 "metadata": {
  "kernelspec": {
   "display_name": "Python (dev_py34)",
   "language": "python",
   "name": "dev_py34"
  },
  "language_info": {
   "codemirror_mode": {
    "name": "ipython",
    "version": 3
   },
   "file_extension": ".py",
   "mimetype": "text/x-python",
   "name": "python",
   "nbconvert_exporter": "python",
   "pygments_lexer": "ipython3",
   "version": "3.4.5"
  }
 },
 "nbformat": 4,
 "nbformat_minor": 2
}
