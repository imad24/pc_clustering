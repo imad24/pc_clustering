{
 "cells": [
  {
   "cell_type": "markdown",
   "metadata": {},
   "source": [
    "# Exploring Clustering Results\n",
    "The file containing the clustering results is stored in the processed data folder with the suffix clean. The index is set to the first __Product group key__.\n",
    "\n",
    "As a reminder the file is organized in three columns: _Product Group Key_, _Cluster Number_ and the corresponding _Centroid_ of the cluster."
   ]
  },
  {
   "cell_type": "code",
   "execution_count": 3,
   "metadata": {},
   "outputs": [
    {
     "name": "stdout",
     "output_type": "stream",
     "text": [
      "The autoreload extension is already loaded. To reload it, use:\n",
      "  %reload_ext autoreload\n"
     ]
    }
   ],
   "source": [
    "%load_ext autoreload\n",
    "# always reload modules marked with \"%aimport\"\n",
    "%autoreload 1\n",
    "\n",
    "import os\n",
    "import sys\n",
    "# add the 'src' directory as one where we can import modules\n",
    "root_dir = os.path.join(os.getcwd(),os.pardir,os.pardir)\n",
    "src_dir = os.path.join(os.getcwd(), os.pardir,os.pardir, 'src')\n",
    "if src_dir not in sys.path: sys.path.append(src_dir)\n",
    "\n",
    "\n",
    "import pandas as pd\n",
    "import math\n",
    "import numpy as np\n",
    "\n",
    "\n",
    "import matplotlib.pyplot as plt\n",
    "import seaborn as sns\n",
    "\n",
    "import statsmodels.api as sm\n",
    "from scipy.stats import chisquare\n",
    "\n",
    "from data import preprocessing as prp\n",
    "%aimport data.preprocessing\n",
    "\n",
    "pd.options.display.max_rows = 10\n",
    "\n",
    "from IPython.display import display\n",
    "\n",
    "from dotenv import find_dotenv, load_dotenv\n",
    "#Load env vars\n",
    "load_dotenv(find_dotenv())\n",
    "\n",
    "subfolder = os.getenv(\"SUBFOLDER\")\n",
    "PREFIX = os.getenv(\"PREFIX\")\n",
    "raw_path = os.path.join(root_dir,\"data\\\\raw\\\\\",subfolder)\n",
    "interim_path = os.path.join(root_dir,\"data\\\\interim\\\\\",subfolder) \n",
    "processed_path = os.path.join(root_dir,\"data\\\\processed\\\\\",subfolder) \n",
    "\n",
    "reports_path = os.path.join(root_dir,\"reports\\\\\",subfolder)\n",
    "models_path = os.path.join(root_dir,\"models\\\\\",subfolder)"
   ]
  },
  {
   "cell_type": "markdown",
   "metadata": {},
   "source": [
    "## Feature Engineering"
   ]
  },
  {
   "cell_type": "code",
   "execution_count": 908,
   "metadata": {},
   "outputs": [
    {
     "name": "stdout",
     "output_type": "stream",
     "text": [
      "Data set succefully made !\n",
      "encoders saved\n"
     ]
    }
   ],
   "source": [
    "! python c:/Users/rahmim00/Documents/Notebooks/Clustering/pc_clustering/src/features/build_features.py"
   ]
  },
  {
   "cell_type": "code",
   "execution_count": 4,
   "metadata": {},
   "outputs": [
    {
     "name": "stdout",
     "output_type": "stream",
     "text": [
      "(1046, 12)\n"
     ]
    },
    {
     "data": {
      "text/html": [
       "<div>\n",
       "<table border=\"1\" class=\"dataframe\">\n",
       "  <thead>\n",
       "    <tr style=\"text-align: right;\">\n",
       "      <th></th>\n",
       "      <th>1</th>\n",
       "      <th>2</th>\n",
       "      <th>3</th>\n",
       "      <th>4</th>\n",
       "      <th>5</th>\n",
       "      <th>6</th>\n",
       "      <th>7</th>\n",
       "      <th>8</th>\n",
       "      <th>9</th>\n",
       "      <th>10</th>\n",
       "      <th>11</th>\n",
       "      <th>12</th>\n",
       "      <th>13</th>\n",
       "      <th>14</th>\n",
       "      <th>15</th>\n",
       "      <th>16</th>\n",
       "    </tr>\n",
       "    <tr>\n",
       "      <th>Product</th>\n",
       "      <th></th>\n",
       "      <th></th>\n",
       "      <th></th>\n",
       "      <th></th>\n",
       "      <th></th>\n",
       "      <th></th>\n",
       "      <th></th>\n",
       "      <th></th>\n",
       "      <th></th>\n",
       "      <th></th>\n",
       "      <th></th>\n",
       "      <th></th>\n",
       "      <th></th>\n",
       "      <th></th>\n",
       "      <th></th>\n",
       "      <th></th>\n",
       "    </tr>\n",
       "  </thead>\n",
       "  <tbody>\n",
       "    <tr>\n",
       "      <th>3.6E+101_2</th>\n",
       "      <td>1.0</td>\n",
       "      <td>8.0</td>\n",
       "      <td>18.0</td>\n",
       "      <td>18.0</td>\n",
       "      <td>12.0</td>\n",
       "      <td>8.0</td>\n",
       "      <td>9.0</td>\n",
       "      <td>6.0</td>\n",
       "      <td>0.0</td>\n",
       "      <td>0.0</td>\n",
       "      <td>0.0</td>\n",
       "      <td>0.0</td>\n",
       "      <td>1.0</td>\n",
       "      <td>1.0</td>\n",
       "      <td>0.0</td>\n",
       "      <td>0.0</td>\n",
       "    </tr>\n",
       "    <tr>\n",
       "      <th>31C000963_2</th>\n",
       "      <td>205.0</td>\n",
       "      <td>1379.0</td>\n",
       "      <td>1743.0</td>\n",
       "      <td>1178.0</td>\n",
       "      <td>1023.0</td>\n",
       "      <td>640.0</td>\n",
       "      <td>450.0</td>\n",
       "      <td>351.0</td>\n",
       "      <td>186.0</td>\n",
       "      <td>106.0</td>\n",
       "      <td>96.0</td>\n",
       "      <td>96.0</td>\n",
       "      <td>94.0</td>\n",
       "      <td>122.0</td>\n",
       "      <td>102.0</td>\n",
       "      <td>87.0</td>\n",
       "    </tr>\n",
       "  </tbody>\n",
       "</table>\n",
       "</div>"
      ],
      "text/plain": [
       "                 1       2       3       4       5      6      7      8  \\\n",
       "Product                                                                   \n",
       "3.6E+101_2     1.0     8.0    18.0    18.0    12.0    8.0    9.0    6.0   \n",
       "31C000963_2  205.0  1379.0  1743.0  1178.0  1023.0  640.0  450.0  351.0   \n",
       "\n",
       "                 9     10    11    12    13     14     15    16  \n",
       "Product                                                          \n",
       "3.6E+101_2     0.0    0.0   0.0   0.0   1.0    1.0    0.0   0.0  \n",
       "31C000963_2  186.0  106.0  96.0  96.0  94.0  122.0  102.0  87.0  "
      ]
     },
     "execution_count": 4,
     "metadata": {},
     "output_type": "execute_result"
    }
   ],
   "source": [
    "s = \"Autumn\"\n",
    "v = 1\n",
    "file_name = \"7C_euc_p2_clustering_clean_week_%s_v%d.csv\"%(s,v)\n",
    "\n",
    "#Series files\n",
    "raw_df = prp.load_file(\"product_sales_raw\", type_= \"I\",version=None).set_index(\"Product\").astype(np.float64)\n",
    "raw_df.columns = range(1,len(raw_df.columns)+1) \n",
    "\n",
    "clean_df = prp.load_file(\"p2_clean_%s\"%s, type_= \"I\",version=1).set_index(\"Product\").astype(np.float64)\n",
    "zclean_df = prp.load_file(\"p2_z_clean_%s\"%s, type_= \"P\",version=1).set_index(\"Product\").astype(np.float64)\n",
    "\n",
    "#clustering result\n",
    "prd_cluster_df = pd.read_csv(models_path+file_name, sep=';', encoding='utf-8').drop('Unnamed: 0',axis=1).set_index('Product')\n",
    "\n",
    "#cleaned features\n",
    "features_df = prp.load_file('clf_features',type_=\"P\",index = \"Product\")\n",
    "features_df.Ldate = features_df.Ldate.apply(lambda x:str(x))\n",
    "\n",
    "numeric = (list(features_df.columns.to_series().groupby(features_df.dtypes).groups[np.dtype('float64')]))\n",
    "\n",
    "features_list = list(features_df.columns) + [\"Cluster\"]\n",
    "\n",
    "df = features_df.join(prd_cluster_df,how=\"inner\")[features_list]\n",
    "\n",
    "\n",
    "print(df.shape)\n",
    "clean_df.head(2)"
   ]
  },
  {
   "cell_type": "markdown",
   "metadata": {},
   "source": [
    "### Display Cluster Profiles"
   ]
  },
  {
   "cell_type": "code",
   "execution_count": 5,
   "metadata": {},
   "outputs": [
    {
     "data": {
      "image/png": "[encoded data removed]",
      "text/plain": [
       "<matplotlib.figure.Figure at 0xd408e80>"
      ]
     },
     "metadata": {},
     "output_type": "display_data"
    }
   ],
   "source": [
    "#Dict of cluster centroids\n",
    "cluster_centroid = prd_cluster_df[[\"Cluster\",\"Centroid\"]].drop_duplicates().set_index([\"Cluster\"]).to_dict()[\"Centroid\"]\n",
    "centroid_cluster = {v: k for k, v in cluster_centroid.items()}\n",
    "\n",
    "\n",
    "centroids = list(set(prd_cluster_df.Centroid))\n",
    "centroids_raw = raw_df.loc[centroids].apply(lambda x:x/x.std(),axis=1)\n",
    "centroids_clean = clean_df.loc[centroids].apply(lambda x:x/x.std(),axis=1)\n",
    "\n",
    "\n",
    "n_rows = int(len(centroids)/3)+1\n",
    "\n",
    "\n",
    "plt.figure(figsize=(18,n_rows*2))\n",
    "i=1\n",
    "for index,value in centroids_raw.iterrows():\n",
    "    plt.subplot(n_rows,3,i)\n",
    "    plt.title(\"Cluster: %d\"%(centroid_cluster[index]))\n",
    "    plt.plot(value,label = \"Raw\")\n",
    "    plt.plot(centroids_clean.loc[index], label=\"Smoothed\")\n",
    "    plt.legend()\n",
    "    i+=1\n",
    "plt.tight_layout()\n",
    "plt.show()"
   ]
  },
  {
   "cell_type": "markdown",
   "metadata": {},
   "source": [
    "# Homogeneity Test\n",
    "In order to detect specific caraterstics for each resulted cluster we perform a statistic test based on Pearsons chi-square score with the hypothesis of a uniform distribution.\n",
    "\n",
    "Features with the pvalues lower than 0.1 are displayed for analysis"
   ]
  },
  {
   "cell_type": "code",
   "execution_count": 12,
   "metadata": {},
   "outputs": [
    {
     "data": {
      "text/plain": [
       "<module 'features.tools' from 'C:\\\\Users\\\\rahmim00\\\\Documents\\\\Notebooks\\\\Clustering\\\\pc_clustering\\\\notebooks\\\\Cerf7\\\\..\\\\..\\\\src\\\\features\\\\tools.py'>"
      ]
     },
     "execution_count": 12,
     "metadata": {},
     "output_type": "execute_result"
    }
   ],
   "source": [
    "%matplotlib inline\n",
    "import importlib\n",
    "%aimport visualization.cluster_analysis\n",
    "%aimport features.tools\n",
    "from visualization import cluster_analysis as va\n",
    "importlib.reload(visualization.cluster_analysis)\n",
    "importlib.reload(features.tools)"
   ]
  },
  {
   "cell_type": "markdown",
   "metadata": {},
   "source": [
    "### Calculate modalities frequency through clusters\n",
    "As a first step, all the distrubtions of modalities across features and clusters are calculated and stored in one array structered as follows:\n",
    "\n",
    "One array for each cluster which contains a dictionnary of features. Each feature is again a dictionary of modalities and their occurence in that cluster"
   ]
  },
  {
   "cell_type": "code",
   "execution_count": null,
   "metadata": {},
   "outputs": [],
   "source": [
    "va.plot_features_distribution(df)"
   ]
  },
  {
   "cell_type": "code",
   "execution_count": null,
   "metadata": {},
   "outputs": [],
   "source": [
    "va.plot_cluster_over_features(df,clusters=[12]);"
   ]
  },
  {
   "cell_type": "code",
   "execution_count": null,
   "metadata": {},
   "outputs": [],
   "source": [
    "va.plot_feature_over_clusters(df,\"Color\");"
   ]
  },
  {
   "cell_type": "code",
   "execution_count": null,
   "metadata": {},
   "outputs": [],
   "source": [
    "va.plot_modalities(df);"
   ]
  },
  {
   "cell_type": "markdown",
   "metadata": {},
   "source": [
    "## MCA Analysis"
   ]
  },
  {
   "cell_type": "markdown",
   "metadata": {},
   "source": [
    "### Apply MCA on Products"
   ]
  },
  {
   "cell_type": "code",
   "execution_count": 765,
   "metadata": {},
   "outputs": [
    {
     "data": {
      "image/png": "[encoded data removed]",
      "text/plain": [
       "<matplotlib.figure.Figure at 0x14fe9748>"
      ]
     },
     "metadata": {},
     "output_type": "display_data"
    }
   ],
   "source": [
    "import prince\n",
    "\n",
    "mca = prince.MCA(features_df)\n",
    "mca.plot_relationship_square()\n",
    "plt.show()"
   ]
  },
  {
   "cell_type": "markdown",
   "metadata": {},
   "source": [
    "### Apply MCA on Clients"
   ]
  },
  {
   "cell_type": "code",
   "execution_count": 144,
   "metadata": {},
   "outputs": [
    {
     "data": {
      "image/png": "[encoded data removed]",
      "text/plain": [
       "<matplotlib.figure.Figure at 0x1bb36828>"
      ]
     },
     "metadata": {},
     "output_type": "display_data"
    }
   ],
   "source": [
    "import prince\n",
    "features_df = client_df.astype(str).fillna(\"NA\")\n",
    "mca = prince.MCA(features_df)\n",
    "mca.plot_relationship_square()\n",
    "plt.show()"
   ]
  },
  {
   "cell_type": "markdown",
   "metadata": {},
   "source": [
    " "
   ]
  },
  {
   "cell_type": "markdown",
   "metadata": {},
   "source": [
    " "
   ]
  },
  {
   "cell_type": "markdown",
   "metadata": {},
   "source": [
    " "
   ]
  },
  {
   "cell_type": "markdown",
   "metadata": {},
   "source": [
    "## '###########################################################################'"
   ]
  },
  {
   "cell_type": "markdown",
   "metadata": {},
   "source": [
    " "
   ]
  },
  {
   "cell_type": "markdown",
   "metadata": {},
   "source": [
    " "
   ]
  },
  {
   "cell_type": "markdown",
   "metadata": {},
   "source": [
    "### Display overall features distribution"
   ]
  },
  {
   "cell_type": "code",
   "execution_count": null,
   "metadata": {},
   "outputs": [],
   "source": [
    "features_df = df.fillna(\"Na\").drop(\"Cluster\",axis=1).copy()\n",
    "\n",
    "original_distribution={}\n",
    "\n",
    "# features_df.info()\n",
    "plt.figure(figsize=(16,16))\n",
    "features = features_df.columns\n",
    "for i,f in enumerate(features):\n",
    "    counts = features_df.groupby([f])[f].count().to_dict()\n",
    "    dist = list(counts.values())\n",
    "    original_distribution[f] = dist\n",
    "    keys = list(counts.keys())\n",
    "    chisq, p = chisquare(dist)\n",
    "    plt.subplot(5,4,i+1)\n",
    "    plt.title(\"%s\"%(f))\n",
    "    plt.bar(range(len(keys)),dist)\n",
    "    plt.xticks(range(len(keys)),keys,rotation=70)\n",
    "    if len(keys)>20: plt.tick_params(axis='x', which='both', bottom=False, top=False, labelbottom=False)\n",
    "plt.subplots_adjust(wspace=0.5, hspace=0.5)      \n",
    "plt.show()"
   ]
  },
  {
   "cell_type": "markdown",
   "metadata": {},
   "source": [
    "### Chi-square test over clusters"
   ]
  },
  {
   "cell_type": "code",
   "execution_count": null,
   "metadata": {},
   "outputs": [],
   "source": [
    "\n",
    "pthreashold = 0.2\n",
    "\n",
    "#get the features\n",
    "features = all_features\n",
    "\n",
    "clusters = [4]\n",
    "\n",
    "\n",
    "res_features_over_cluster = [0]\n",
    "for c in clusters:\n",
    "    #align each feature with its distrubtion in this cluster c\n",
    "    cluster_feature_dist = clusters_feature_dist[c]\n",
    "    dist = [len(x) for x in list(cluster_feature_dist.values())]\n",
    "    keys = list(cluster_feature_dist.keys())    \n",
    "\n",
    "    #plot the dist of number of elements by feature in this clust\n",
    "    plt.title(\"Feature distribution in the cluster %d\"%c)\n",
    "    plt.bar(range(len(keys)),dist)\n",
    "    plt.xticks(range(len(keys)),keys,rotation=70)\n",
    "    \n",
    "    #for each feature display its distribution over modalities\n",
    "    for feature in features:\n",
    "        #get information from the previous array\n",
    "        cluster_feature_dist = clusters_feature_dist[c]\n",
    "        feature_distribution = list(cluster_feature_dist[feature].values())\n",
    "        feature_keys = list(cluster_feature_dist[feature].keys())\n",
    "        nftrs = len(feature_keys)\n",
    "        chisq, p = chisquare(feature_distribution)\n",
    "        print(feature,feature_distribution)\n",
    "        if p<pthreashold:\n",
    "            plt.figure()\n",
    "            plt.title(\"%s modalities distribution - pvalue = %.9f\"%(feature,p))\n",
    "            plt.bar(np.arange(nftrs),feature_distribution)\n",
    "            plt.xticks(np.arange(nftrs)+(0.5/nftrs),feature_keys,rotation=70 if nftrs>4 else 0)\n",
    "    plt.show(block = True)\n",
    "    \n"
   ]
  },
  {
   "cell_type": "markdown",
   "metadata": {},
   "source": [
    "### Calculate modalities frequency through features"
   ]
  },
  {
   "cell_type": "code",
   "execution_count": null,
   "metadata": {},
   "outputs": [],
   "source": [
    "#get the features\n",
    "features = all_features\n",
    "\n",
    "#get the clusters (actually its a range(1,nb_cluster))\n",
    "clusters = set(df['Cluster'].values)\n",
    "\n",
    "#dict to store each feater and freq for all the clusters\n",
    "features_clust_dist = dict()\n",
    "\n",
    "#invert the dict and get it by feature \n",
    "for f in features:\n",
    "    freq = dict()\n",
    "    for c in clusters: \n",
    "        freq[c] =  clusters_feature_dist[c][f]\n",
    "    features_clust_dist[f] = freq"
   ]
  },
  {
   "cell_type": "markdown",
   "metadata": {},
   "source": [
    "### Chi-square test over features"
   ]
  },
  {
   "cell_type": "code",
   "execution_count": null,
   "metadata": {},
   "outputs": [],
   "source": [
    "pthreashold = 0.2\n",
    "clusters = set(df['Cluster'].values)\n",
    "\n",
    "features = all_features\n",
    "features = [\"Ldate\"]\n",
    "\n",
    "for f in features:\n",
    "    for c in clusters:\n",
    "        #get information from the previous array\n",
    "        feature_clust_dist = features_clust_dist[f]\n",
    "        feature_distribution = list(feature_clust_dist[c].values())\n",
    "        feature_keys = list(feature_clust_dist[c].keys())\n",
    "        nftrs = len(feature_keys)\n",
    "        chisq, p = chisquare(feature_distribution)\n",
    "        if p<pthreashold:\n",
    "            plt.figure()\n",
    "            plt.title(\"%s: Cluster %d distribution - pvalue = %.9f\"%(f,c,p))\n",
    "            plt.bar(np.arange(nftrs),feature_distribution)\n",
    "            plt.xticks(np.arange(nftrs)+(1.0/nftrs),feature_keys,rotation=70 if nftrs>5 else 0)\n",
    "            \n",
    "    plt.show(block = True)     \n",
    "\n"
   ]
  },
  {
   "cell_type": "markdown",
   "metadata": {},
   "source": [
    "### Modalities distribution"
   ]
  },
  {
   "cell_type": "code",
   "execution_count": null,
   "metadata": {},
   "outputs": [],
   "source": [
    "clusters = set(df['Cluster'].values)\n",
    "nclusters = len(clusters)\n",
    "#get the features\n",
    "features = all_features\n",
    "\n",
    "\n",
    "modalities_clust_dist = dict()\n",
    "\n",
    "for f in features:\n",
    "    feature_sum=[]\n",
    "    modalities = set(df[f].values)\n",
    "    modalities_distribution=dict()\n",
    "    for m in modalities:\n",
    "        modality_distribution = np.zeros((nclusters+1))\n",
    "        for c in clusters:\n",
    "            #get information from the previous array\n",
    "            feature_clust_dist = features_clust_dist[f]\n",
    "            modality_distribution[c] +=(feature_clust_dist[c][m] if m in feature_clust_dist[c] else 0)\n",
    "        modalities_distribution[m] = modality_distribution    \n",
    "    modalities_clust_dist[f] = modalities_distribution "
   ]
  },
  {
   "cell_type": "markdown",
   "metadata": {},
   "source": [
    "### Chi-square test for modalities over clusters"
   ]
  },
  {
   "cell_type": "code",
   "execution_count": null,
   "metadata": {},
   "outputs": [],
   "source": [
    "%matplotlib inline\n",
    "\n",
    "clusters = set(df['Cluster'].values)\n",
    "nclusters = len(clusters)\n",
    "\n",
    "\n",
    "pthreashold = 0.3\n",
    "\n",
    "n_min_dist = 3\n",
    "min_members = 4\n",
    "\n",
    "\n",
    "min_dust  = True\n",
    "for f in features:\n",
    "    modalities = set(df[f].values)\n",
    "    r = len(modalities)\n",
    "    for m in modalities:\n",
    "        modality_dist = modalities_clust_dist[f][m]\n",
    "        md = np.count_nonzero(modality_dist)<=n_min_dist and np.max(modality_dist)>min_members\n",
    "        chisq, p = chisquare(modality_dist)\n",
    "        if p<pthreashold and (md and min_dust):\n",
    "            plt.figure()\n",
    "            plt.title(\"%s: %s  Distribution - pvalue = %.9f\"%(f,m,p))\n",
    "            plt.bar(np.arange(nclusters)+1,modality_dist[1:])\n",
    "            plt.xticks(np.arange(nclusters)+(1.0/nclusters)+1,np.arange(nclusters)+1,rotation=90,size=8)\n",
    "            if np.max(modality_dist[1:])<10: plt.ylim(0,10)\n",
    "    plt.show(block = True)  "
   ]
  },
  {
   "cell_type": "code",
   "execution_count": null,
   "metadata": {},
   "outputs": [],
   "source": [
    "#get the features\n",
    "all_features = df.columns[:-1]\n",
    "\n",
    "\n",
    "features = all_features\n",
    "\n",
    "#get the clusters (actually its a range(1,nb_cluster))\n",
    "clusters = set(df['Cluster'].values)\n",
    "\n",
    "#array to store each cluster and freq for all the features\n",
    "clusters_feature_dist = [0] #to shift the indices to clusters\n",
    "\n",
    "#loop trhough features\n",
    "display(df.Color.value_counts())\n",
    "display(pd.crosstab(df.Cluster,df.Color))\n",
    "for c in clusters:\n",
    "    feature_dist = dict()\n",
    "    for feature in features:\n",
    "        freq = df[df['Cluster']==c].groupby(feature)[feature].count()\n",
    "        feature_dist[feature]=freq.to_dict()\n",
    "    clusters_feature_dist.append(feature_dist)\n",
    "\n"
   ]
  },
  {
   "cell_type": "markdown",
   "metadata": {},
   "source": [
    "## Classification Models"
   ]
  },
  {
   "cell_type": "code",
   "execution_count": null,
   "metadata": {},
   "outputs": [],
   "source": [
    "from sklearn.base import BaseEstimator\n",
    "from sklearn.ensemble import RandomForestClassifier\n",
    "from sklearn.neighbors import KNeighborsClassifier\n",
    "from sklearn.tree import DecisionTreeClassifier\n",
    "from sklearn.neural_network import MLPClassifier\n",
    "from sklearn.svm import SVC\n",
    "from sklearn.naive_bayes import GaussianNB\n",
    "from sklearn.dummy import DummyClassifier\n",
    "\n",
    "from sklearn.model_selection import train_test_split  \n",
    "from sklearn.preprocessing import OneHotEncoder,LabelBinarizer,LabelEncoder\n",
    "from sklearn.tree import  export_graphviz\n",
    "import subprocess\n",
    "\n",
    "\n",
    "def visualize_tree(tree, feature_names,class_names=None):\n",
    "    \n",
    "    with open(reports_path+\"dt.dot\", 'w') as f:\n",
    "        \n",
    "        export_graphviz(tree, out_file=f, feature_names=feature_names,  filled=True, rounded=True, class_names=True )\n",
    "\n",
    "    command = [\"C:\\\\Program Files (x86)\\\\Graphviz2.38\\\\bin\\\\dot.exe\", \"-Tpng\", reports_path+\"dt.dot\", \"-o\", \"dt.png\"]\n",
    "    \n",
    "    try:\n",
    "        subprocess.check_call(command)\n",
    "    except:\n",
    "        exit(\"Could not run dot, ie graphviz, to \"\n",
    "             \"produce visualization\")\n",
    "\n",
    "\n",
    "features_df = df[features_list].copy()\n",
    "data = features_df.copy()\n",
    "data[\"Sales Season\"] = \"Summer\"\n",
    "print(data.shape)\n",
    "display(data.head())"
   ]
  },
  {
   "cell_type": "code",
   "execution_count": null,
   "metadata": {},
   "outputs": [],
   "source": [
    "# X  = pd.get_dummies(data.drop([\"Cluster\"],axis=1).iloc[:,:])\n",
    "X = prp.encode(data.drop([\"Cluster\"],axis=1),non_categorical = numeric)\n",
    "# X.drop([\"Nstore\"], axis= 1,inplace = True)\n",
    "feature_labels = X.columns\n",
    "y = data[\"Cluster\"]\n",
    "print(X.shape)\n",
    "\n",
    "series = clean_df.iloc[:,:3].copy()\n",
    "series = series.apply(lambda x:x / x.std())\n",
    "\n",
    "\n",
    "X_s = X.join(series)\n",
    "\n",
    "# classifier = DecisionTreeClassifier(criterion = \"gini\", max_depth=3, min_samples_leaf=4)  \n",
    "# classifier = SVC(C=0.1, class_weight='balanced')\n",
    "classifier = RandomForestClassifier(n_estimators=100,max_depth=12)\n",
    "# classifier = KNeighborsClassifier(n_neighbors=15,weights='uniform', algorithm='auto');\n",
    "# classifier = MLPClassifier(hidden_layer_sizes=(16,8),solver='lbfgs',max_iter=2000,verbose = True)#8,5\n",
    "# classifier = GaussianNB()\n",
    "X.head(3)\n",
    "# classifier = DummyClassifier()\n",
    "# y = y.sample(frac=1)\n",
    "# y.head()"
   ]
  },
  {
   "cell_type": "markdown",
   "metadata": {},
   "source": [
    "## Standard evaluation metrics of the algorithm"
   ]
  },
  {
   "cell_type": "code",
   "execution_count": null,
   "metadata": {},
   "outputs": [],
   "source": [
    "from sklearn.metrics import accuracy_score\n",
    "from sklearn.model_selection import cross_val_score\n",
    "\n",
    "classifier = RandomForestClassifier(n_estimators=80,max_depth=18,min_samples_split=2, min_samples_leaf=1, criterion='gini', bootstrap=True)\n",
    "\n",
    "X_train, X_test, y_train, y_test = train_test_split(X, y, test_size=0.15)  \n",
    "\n",
    "\n",
    "# scores = cross_val_score(classifier, X, y, cv=5, scoring='f1_macro')\n",
    "# print(scores,scores.mean())\n",
    "\n",
    "\n",
    "classifier.fit(X_train, y_train)\n",
    "y_pred = classifier.predict(X_test)\n",
    "y_pred_proba = classifier.predict_proba(X_test)\n",
    "yt_pred = classifier.predict(X_train)\n",
    "\n",
    "# print(confusion_matrix(y_test, y_pred) \n",
    "# precision,recall,fscore,support = report(y_test, y_pred,warn_for=(),labels=np.unique(y_pred))\n",
    "print(\"Train\")\n",
    "print(classification_report(y_train,yt_pred,labels=np.unique(y_test) )[-54*1:])\n",
    "print(\"Test\")\n",
    "print(classification_report(y_test,y_pred,labels=np.unique(y_test) )[-54*1:])"
   ]
  },
  {
   "cell_type": "markdown",
   "metadata": {},
   "source": [
    "### Random Search"
   ]
  },
  {
   "cell_type": "code",
   "execution_count": null,
   "metadata": {},
   "outputs": [],
   "source": [
    "from time import time\n",
    "from sklearn.model_selection import GridSearchCV\n",
    "from sklearn.model_selection import RandomizedSearchCV\n",
    "from scipy.stats import randint as sp_randint\n",
    "\n",
    "\n",
    "clf = RandomForestClassifier(n_estimators=200)\n",
    "\n",
    "\n",
    "# Utility function to report best scores\n",
    "def report(results, n_top=3):\n",
    "    for i in range(1, n_top + 1):\n",
    "        candidates = np.flatnonzero(results['rank_test_score'] == i)\n",
    "        for candidate in candidates:\n",
    "            print(\"Model with rank: {0}\".format(i))\n",
    "            print(\"Mean validation score: {0:.3f} (std: {1:.3f})\".format(\n",
    "                  results['mean_test_score'][candidate],\n",
    "                  results['std_test_score'][candidate]))\n",
    "            print(\"Parameters: {0}\".format(results['params'][candidate]))\n",
    "            print(\"\")\n",
    "\n",
    "\n",
    "# specify parameters and distributions to sample from\n",
    "param_dist = {\n",
    "              \"max_depth\": [10, None],\n",
    "              \"max_features\": [None],\n",
    "              \"min_samples_split\": sp_randint(2, 11),\n",
    "              \"min_samples_leaf\": sp_randint(1, 11),\n",
    "              \"bootstrap\": [True, False],\n",
    "              \"criterion\": [\"gini\", \"entropy\"]}\n",
    "\n",
    "# run randomized search\n",
    "n_iter_search = 20\n",
    "random_search = RandomizedSearchCV(clf, param_distributions=param_dist,\n",
    "                                   n_iter=n_iter_search)\n",
    "\n",
    "start = time()\n",
    "random_search.fit(X, y)\n",
    "print(\"RandomizedSearchCV took %.2f seconds for %d candidates\"\n",
    "      \" parameter settings.\" % ((time() - start), n_iter_search))\n",
    "report(random_search.cv_results_)"
   ]
  },
  {
   "cell_type": "markdown",
   "metadata": {},
   "source": [
    "### Grid Search"
   ]
  },
  {
   "cell_type": "code",
   "execution_count": null,
   "metadata": {},
   "outputs": [],
   "source": [
    "from time import time\n",
    "from sklearn.model_selection import GridSearchCV\n",
    "from sklearn.model_selection import RandomizedSearchCV\n",
    "from scipy.stats import randint as sp_randint\n",
    "\n",
    "\n",
    "clf = RandomForestClassifier()\n",
    "\n",
    "param_grid = {\"n_estimators\":[50,80,100,150,200],\n",
    "              \"max_depth\": [8, 10, 12, 15, 20],\n",
    "              \"max_features\": [None],\n",
    "              \"min_samples_split\": [2, 3, 6, 10],\n",
    "              \"min_samples_leaf\": [1, 3, 6, 10],\n",
    "              \"bootstrap\": [True, False],\n",
    "              \"criterion\": [\"gini\", \"entropy\"]}\n",
    "\n",
    "# run grid search\n",
    "grid_search = GridSearchCV(clf, param_grid=param_grid)\n",
    "start = time()\n",
    "grid_search.fit(X, y)\n",
    "\n",
    "print(\"GridSearchCV took %.2f seconds for %d candidate parameter settings.\"\n",
    "      % (time() - start, len(grid_search.cv_results_['params'])))\n",
    "report(random_search.cv_results_)"
   ]
  },
  {
   "cell_type": "markdown",
   "metadata": {},
   "source": [
    "## RMSE to the center of the predicted cluster "
   ]
  },
  {
   "cell_type": "markdown",
   "metadata": {},
   "source": [
    "#### Joining the series with the predicted clusters of the test set"
   ]
  },
  {
   "cell_type": "code",
   "execution_count": null,
   "metadata": {},
   "outputs": [],
   "source": [
    "argsorted = np.fliplr(np.argsort(y_pred_proba, axis=1))\n",
    "nguess = argsorted[:,0:4]+1\n",
    "\n",
    "series_df = raw_df.copy()\n",
    "predictions = nguess\n",
    "n_pred = predictions.shape[1]\n",
    "pred_df = pd.DataFrame(predictions,columns=[\"PC%d\"%g for g in np.arange(n_pred)+1 ],index=X_test.index)\n",
    "\n",
    "cluster_centroid = prd_cluster_df[[\"Cluster\",\"Centroid\"]].drop_duplicates().set_index([\"Cluster\"]).to_dict()[\"Centroid\"]\n",
    "centroid_cluster = {v: k for k, v in cluster_centroid.items()}\n",
    "\n",
    "\n",
    "for i in np.arange(n_pred)+1:\n",
    "    pred_df[\"PR%d\"%i] = pred_df[\"PC%d\"%i].apply(lambda x: cluster_centroid[x])\n",
    "    \n",
    "product_centroid = X_test.join(prd_cluster_df)[[\"Cluster\",\"Centroid\"]]\n",
    "full_series = pred_df.join(product_centroid.join(series_df.astype(np.float64), how=\"inner\"),how=\"inner\")\n",
    "\n",
    "print(full_series.shape)\n",
    "display(full_series.sort_index().head().iloc[:,:])\n"
   ]
  },
  {
   "cell_type": "markdown",
   "metadata": {},
   "source": [
    "### Top-4 Error rate and correlation"
   ]
  },
  {
   "cell_type": "code",
   "execution_count": null,
   "metadata": {},
   "outputs": [],
   "source": [
    "p_series = full_series.copy()\n",
    "N = p_series.shape[0]\n",
    "notin = p_series[ (p_series.Cluster!=p_series.PC1) & (p_series.Cluster!=p_series.PC2) &(p_series.Cluster!=p_series.PC3)  &(p_series.Cluster!=p_series.PC4)].shape[0]\n",
    "\n",
    "print(\"%.2f Not in Top 4 guesses\"%(notin/N*100))\n",
    "\n",
    "\n",
    "\n",
    "offset = (n_pred * 2) + 2\n",
    "guess = 2\n",
    "\n",
    "s_true = np.zeros((series_df.shape))\n",
    "s_pred = np.zeros((series_df.shape))\n",
    "RMSE = []\n",
    "PRMSE = []\n",
    "CORR = []\n",
    "SP=[]\n",
    "i = 0\n",
    "for index,values in p_series.iterrows():\n",
    "    centroid = values[\"PR%d\"%guess]\n",
    "    cluster = values[\"Centroid\"]\n",
    "    \n",
    "    #Getting the series raw, centroid of actual cluster, centroid of predicted cluster\n",
    "    series = (values[offset:]).astype(np.float64)#/values[offset:].std()).astype(np.float64)\n",
    "    c_series = (series_df.loc[cluster]).astype(np.float64)#/series_df.loc[cluster].std()).astype(np.float64)\n",
    "    predicted_series = (series_df.loc[centroid]).astype(np.float64)#/series_df.loc[centroid].std()).astype(np.float64)\n",
    "    \n",
    "    s_true[i] = series\n",
    "    s_pred[i] = c_series\n",
    "    \n",
    "    n = len(series)\n",
    "    rmse = math.sqrt(MSE(series,c_series)/n)\n",
    "    prmse = math.sqrt(MSE(series,predicted_series)/n)\n",
    "    corr = np.corrcoef(series,predicted_series)[0][1]\n",
    "    \n",
    "    RMSE.append(rmse)\n",
    "    PRMSE.append(prmse)\n",
    "    CORR.append(corr)\n",
    "    i+=1\n",
    "    \n",
    "  \n",
    "sales = p_series.values[:,offset:].astype(np.float64)\n",
    "p_series[\"PRMSE\"] = PRMSE\n",
    "p_series[\"RMSE\"] = RMSE\n",
    "p_series[\"CORR\"] = CORR\n",
    "results = pd.DataFrame(index = p_series.index)\n",
    "\n",
    "results[\"Mean\"] = sales.mean(axis=1)\n",
    "results[\"Std\"]  = sales.std(axis=1)\n",
    "results[\"Range\"] = sales.max(axis=1) - sales.min(axis=1)\n",
    "results[\"RMSE\"] = RMSE\n",
    "results[\"PRMSE\"] = PRMSE\n",
    "results[\"CORR\"] = CORR\n",
    "\n",
    "\n",
    "print(\"%.2f have less than 70%% correlation between predicted and actual series\"%(results[results.CORR<0.7].shape[0]/N*100))\n",
    "\n",
    "\n",
    "results[results.PRMSE != results.RMSE].nlargest(210,\"PRMSE\").head(5)"
   ]
  },
  {
   "cell_type": "markdown",
   "metadata": {},
   "source": [
    "### Predictions Plots"
   ]
  },
  {
   "cell_type": "code",
   "execution_count": null,
   "metadata": {},
   "outputs": [],
   "source": [
    "bad = p_series[p_series.PRMSE != p_series.RMSE].nlargest(210,\"PRMSE\")\n",
    "good = p_series[p_series.CORR>0.8]\n",
    "\n",
    "\n",
    "disp = p_series.iloc[:,:-3].loc[bad.index[:12]]\n",
    "display(disp.head())\n",
    "\n",
    "\n",
    "\n",
    "\n",
    "plt.figure(figsize=(18,8))\n",
    "i=1;\n",
    "for index,values in disp.iterrows():\n",
    "    guess1 = values[\"PR1\"]\n",
    "    guess2 = values[\"PR2\"]\n",
    "    guess3 = values[\"PR3\"]\n",
    "    guess4 = values[\"PR4\"]\n",
    "    cluster = values[\"Centroid\"]\n",
    "    \n",
    "    series = values[offset:]/values[offset:].std()\n",
    "    c_series = series_df.loc[cluster]/series_df.loc[cluster].std()\n",
    "    predicted_series = series_df.loc[guess1]/series_df.loc[guess1].std()\n",
    "    \n",
    "    p2 = series_df.loc[guess2]/series_df.loc[guess2].std()\n",
    "    p3 = series_df.loc[guess3]/series_df.loc[guess3].std()\n",
    "    p4 = series_df.loc[guess4]/series_df.loc[guess4].std()\n",
    "    \n",
    "    plt.subplot(4,3,i)\n",
    "    plt.plot(series,label=\"Series\",c='m')\n",
    "    plt.plot(c_series,label=\"Cebtroid\",c='dimgrey')\n",
    "    plt.plot(predicted_series,label=\"P1\",ls='--')\n",
    "#     plt.plot(p2,label=\"P2\",ls='--')\n",
    "#     plt.plot(p3,label=\"P3\",ls='--')\n",
    "    #plt.plot(p4,label=\"P4\",ls='--')\n",
    "    \n",
    "    #show the centroid as well\n",
    "    \n",
    "    \n",
    "    plt.legend(loc=0)\n",
    "    \n",
    "    i+=1\n",
    "    \n",
    "\n",
    "plt.tight_layout()\n",
    "plt.show()"
   ]
  },
  {
   "cell_type": "markdown",
   "metadata": {},
   "source": [
    "# Predict Quantities"
   ]
  },
  {
   "cell_type": "markdown",
   "metadata": {},
   "source": [
    "### Load features and predictor"
   ]
  },
  {
   "cell_type": "code",
   "execution_count": null,
   "metadata": {},
   "outputs": [],
   "source": [
    "from sklearn.metrics import explained_variance_score,mean_squared_error,r2_score\n",
    "\n",
    "features_df = prp.load_file(\"clf_features\",type_=\"P\",index = \"Product\")\n",
    "features_df.Ldate = features_df.Ldate.apply(lambda x:str(x))\n",
    "\n",
    "\n",
    "from sklearn.externals import joblib\n",
    "\n",
    "\n",
    "features_df.head()\n",
    "encoded_df = prp.encode(features_df,non_categorical = [\"Tprice\",\"Nstore\"])\n",
    "\n",
    "encoded_df.head()"
   ]
  },
  {
   "cell_type": "markdown",
   "metadata": {},
   "source": [
    "### Estimations"
   ]
  },
  {
   "cell_type": "code",
   "execution_count": null,
   "metadata": {},
   "outputs": [],
   "source": [
    "predictor = joblib.load(models_path+'estimator.pkl')\n",
    "\n",
    "disp = p_series.iloc[:,:-3].loc[results.index[0:12]]\n",
    "disp = p_series.iloc[:,:-3]\n",
    "\n",
    "R2 = []\n",
    "RMSE = []\n",
    "BEST = []\n",
    "for index,values in disp.iterrows():\n",
    "    \n",
    "    #Get the curves\n",
    "    guess1 = values[\"PR1\"]\n",
    "    guess2 = values[\"PR2\"]\n",
    "    guess3 = values[\"PR3\"]\n",
    "    guess4 = values[\"PR4\"]\n",
    "    cluster = values[\"Centroid\"]\n",
    "    \n",
    "    #Get the std from the built predictor\n",
    "    encoded = encoded_df.loc[[index]]\n",
    "    prediction = predictor.predict(encoded)\n",
    "    pstd = prediction\n",
    "    \n",
    "    #actual series\n",
    "    series = values[offset:]\n",
    "    c_series = series_df.loc[cluster]/series_df.loc[cluster].std()\n",
    "    \n",
    "    #curve of each prediction\n",
    "    p1 = series_df.loc[guess1]/series_df.loc[guess1].std()\n",
    "    p2 = series_df.loc[guess2]/series_df.loc[guess2].std()\n",
    "    p3 = series_df.loc[guess3]/series_df.loc[guess3].std()\n",
    "    p4 = series_df.loc[guess4]/series_df.loc[guess4].std()\n",
    "    \n",
    "    #multiply by the std\n",
    "    p1 *= pstd \n",
    "    p2 *= pstd \n",
    "    p3 *= pstd\n",
    "    p4 *= pstd\n",
    "    c_series *= pstd\n",
    "    \n",
    "    rmse1 = math.sqrt(MSE(p1,series)/n)\n",
    "    rmse2 = math.sqrt(MSE(p2,series)/n)\n",
    "    rmse3 = math.sqrt(MSE(p3,series)/n)\n",
    "    rmse4 = math.sqrt(MSE(p4,series)/n)\n",
    "    \n",
    "    r2_1 = r2_score(p1,series,multioutput=\"uniform_average\")\n",
    "    r2_2 = r2_score(p2,series,multioutput=\"uniform_average\")\n",
    "    r2_3 = r2_score(p3,series,multioutput=\"uniform_average\")\n",
    "    r2_4 = r2_score(p4,series,multioutput=\"uniform_average\")\n",
    "    \n",
    "    r2 = [r2_1,r2_2,r2_3,r2_4]\n",
    "    rmse = [rmse1,rmse2,rmse3,rmse4]\n",
    "    best = np.argmin(rmse)\n",
    "    \n",
    "    BEST.append(best)\n",
    "    R2.append(r2[best])\n",
    "    RMSE.append(rmse[best])\n",
    "    \n",
    "disp[\"R2\"] = R2\n",
    "disp[\"RMSE\"] = RMSE\n",
    "disp[\"Best\"] = BEST\n",
    "display(disp[disp.R2>0.2].R2.describe())\n",
    "disp[disp.R2>0.2].R2.plot(kind=\"box\")\n",
    "print(disp[disp.R2>0.2].R2.count()/disp.shape[0])\n",
    "plt.show()"
   ]
  },
  {
   "cell_type": "markdown",
   "metadata": {},
   "source": [
    "### Display First Prediction"
   ]
  },
  {
   "cell_type": "code",
   "execution_count": null,
   "metadata": {},
   "outputs": [],
   "source": [
    "display_result = disp[disp.R2>0].nlargest(disp.shape[0],\"R2\").iloc[:12,:-3]\n",
    "\n",
    "display(disp.loc[display_result.index].head())\n",
    "plt.figure(figsize=(18,8))\n",
    "\n",
    "\n",
    "i=1;\n",
    "for index,values in display_result.iterrows():\n",
    "    \n",
    "    #Get the curves\n",
    "    guess1 = values[\"PR1\"]\n",
    "    guess2 = values[\"PR2\"]\n",
    "    guess3 = values[\"PR3\"]\n",
    "    guess4 = values[\"PR4\"]\n",
    "    cluster = values[\"Centroid\"]\n",
    "    \n",
    "    #Get the std from the built predictor\n",
    "    encoded = encoded_df.loc[[index]]\n",
    "    prediction = predictor.predict(encoded)\n",
    "    pstd = prediction\n",
    "    \n",
    "    #actual series\n",
    "    series = values[offset:]\n",
    "    c_series = series_df.loc[cluster]/series_df.loc[cluster].std()\n",
    "    \n",
    "    #curve of each prediction\n",
    "    p1 = series_df.loc[guess1]/series_df.loc[guess1].std()\n",
    "    p2 = series_df.loc[guess2]/series_df.loc[guess2].std()\n",
    "    p3 = series_df.loc[guess3]/series_df.loc[guess3].std()\n",
    "    p4 = series_df.loc[guess4]/series_df.loc[guess4].std()\n",
    "    \n",
    "    #multiply by the std\n",
    "    p1 *= pstd \n",
    "    p2 *= pstd \n",
    "    p3 *= pstd\n",
    "    p4 *= pstd\n",
    "    c_series *= pstd\n",
    "    \n",
    "    plt.subplot(4,3,i)\n",
    "    plt.plot(series,label=\"Series\",c='m')\n",
    "    plt.plot(c_series,label=\"Centroid\",c='grey',ls='-.')\n",
    "    \n",
    "    best = disp.loc[index].Best\n",
    "    p_array = pd.DataFrame([p1,p2,p3,p4],columns = series_df.columns)\n",
    "    \n",
    "    plt.plot(p1,label=\"P1\",ls='--')\n",
    "#     plt.plot(p2,label=\"P2\",ls='--')\n",
    "#     plt.plot(p3,label=\"P3\",ls='--')\n",
    "#     plt.plot(p4,label=\"P4\",ls='--')\n",
    "\n",
    "\n",
    "\n",
    "    plt.legend(loc=0)\n",
    "    i+=1\n",
    "\n",
    "plt.tight_layout()\n",
    "plt.show()"
   ]
  },
  {
   "cell_type": "markdown",
   "metadata": {},
   "source": [
    "### Adjusted Prediction"
   ]
  },
  {
   "cell_type": "code",
   "execution_count": null,
   "metadata": {},
   "outputs": [],
   "source": [
    "from sklearn.neighbors import KNeighborsClassifier\n",
    "from sklearn.neighbors import NearestNeighbors\n",
    "\n",
    "display_result = disp[disp.R2>0].nlargest(disp.shape[0],\"R2\").iloc[:12,:-3]\n",
    "\n",
    "display(disp.loc[display_result.index].head())\n",
    "plt.figure(figsize=(18,8))\n",
    "\n",
    "n_points = 3\n",
    "i=1;\n",
    "for index,values in display_result.iterrows():\n",
    "    \n",
    "    #Get the curves\n",
    "    guess1 = values[\"PR1\"]\n",
    "    guess2 = values[\"PR2\"]\n",
    "    guess3 = values[\"PR3\"]\n",
    "    guess4 = values[\"PR4\"]\n",
    "    cluster = values[\"Centroid\"]\n",
    "    \n",
    "    #Get the std from the built predictor\n",
    "    encoded = encoded_df.loc[[index]]\n",
    "    prediction = predictor.predict(encoded)\n",
    "    pstd = prediction\n",
    "    \n",
    "    #actual series\n",
    "    series = values[offset:]\n",
    "    c_series = series_df.loc[cluster]/series_df.loc[cluster].std()\n",
    "    \n",
    "    #curve of each prediction\n",
    "    p1 = series_df.loc[guess1]/series_df.loc[guess1].std()\n",
    "    p2 = series_df.loc[guess2]/series_df.loc[guess2].std()\n",
    "    p3 = series_df.loc[guess3]/series_df.loc[guess3].std()\n",
    "    p4 = series_df.loc[guess4]/series_df.loc[guess4].std()\n",
    "    \n",
    "    \n",
    "    plt.subplot(4,3,i)\n",
    "    plt.plot(series,label=\"Series\",c='m')\n",
    "    \n",
    "    first_points = series[:n_points]/series[:n_points].std()\n",
    "    \n",
    "    p_array = pd.DataFrame([p1,p2,p3,p4],columns = series_df.columns)\n",
    "        \n",
    "    #Adjusted\n",
    "    knn = NearestNeighbors(n_neighbors=1, metric=\"euclidean\")\n",
    "    knn.fit(p_array.iloc[:,:n_points])  \n",
    "    closest = knn.kneighbors([first_points], 1, return_distance=False)[0][0]\n",
    "    \n",
    "    cstd = (series[:n_points]/p_array.iloc[closest,:n_points]).median()\n",
    "    \n",
    "    #multiply by the caluclated std\n",
    "    p1c = p1 * cstd \n",
    "    p1p = p1 * pstd[0]\n",
    "    c_series *= cstd\n",
    "    \n",
    "    plt.plot(c_series,label=\"Centroid\",c='grey',ls='-.')\n",
    "    plt.plot(p1c,label=\"P1_cstd\",ls='--',c='b')\n",
    "    plt.plot(p1p,label=\"P1_pstd\",ls='--',c='y')\n",
    "    plt.plot(p_array.iloc[closest]*cstd,label=\"Closest\",c='g',ls=':')\n",
    "\n",
    "    plt.legend(loc=0)\n",
    "    i+=1\n",
    "\n",
    "plt.tight_layout()\n",
    "plt.show()"
   ]
  },
  {
   "cell_type": "code",
   "execution_count": null,
   "metadata": {},
   "outputs": [],
   "source": [
    "p = [\"325141400_2\"]\n",
    "features_df.loc[p]\n",
    "series_df.loc[p]\n",
    "p_series.loc[p]"
   ]
  },
  {
   "cell_type": "markdown",
   "metadata": {},
   "source": [
    " "
   ]
  },
  {
   "cell_type": "markdown",
   "metadata": {},
   "source": [
    " "
   ]
  },
  {
   "cell_type": "markdown",
   "metadata": {},
   "source": [
    " "
   ]
  },
  {
   "cell_type": "markdown",
   "metadata": {},
   "source": [
    " "
   ]
  },
  {
   "cell_type": "markdown",
   "metadata": {},
   "source": [
    " "
   ]
  },
  {
   "cell_type": "markdown",
   "metadata": {},
   "source": [
    " "
   ]
  },
  {
   "cell_type": "markdown",
   "metadata": {},
   "source": [
    " "
   ]
  },
  {
   "cell_type": "markdown",
   "metadata": {},
   "source": [
    " "
   ]
  },
  {
   "cell_type": "markdown",
   "metadata": {},
   "source": [
    " "
   ]
  },
  {
   "cell_type": "markdown",
   "metadata": {},
   "source": [
    " "
   ]
  },
  {
   "cell_type": "markdown",
   "metadata": {},
   "source": [
    " "
   ]
  },
  {
   "cell_type": "markdown",
   "metadata": {},
   "source": [
    " "
   ]
  },
  {
   "cell_type": "markdown",
   "metadata": {},
   "source": [
    " "
   ]
  },
  {
   "cell_type": "raw",
   "metadata": {},
   "source": [
    "test_df = prp.load_file(\"test\",type_=\"P\").set_index('Product')\n",
    "test_series = test_df.values\n",
    "\n",
    "\n",
    "\n",
    "unbalanced = [\"Description\",\"Key_lvl7\",\"Product Status\"]#,\"Sales Season\"\n",
    "#Join with clusters\n",
    "test_product = df_produit.join(test_df,on='Key_lvl2',how='inner').reset_index(drop = True).dropna(axis = 1)\n",
    "test_product.drop(unbalanced, axis = 1 , inplace=True)\n",
    "\n",
    "\n",
    "\n",
    "X_test = prp.translate_df(test_product_cluster,columns=[\"Key_lvl3\",\"Key_lvl4\",\"Key_lvl5\",\"Key_lvl6\"])\n",
    "\n",
    "\n",
    "tdf = X_test[[\"Color\",\"Size\",\"Launch Date\",\"Age Group\"]].copy()\n",
    "\n",
    "tdf[\"Person\"] = X_test[\"Key_lvl3\"].map(lambda x: GetInfo(x,0))\n",
    "tdf[\"Product\"] = X_test[\"Key_lvl3\"].map(lambda x: GetInfo(x,1))\n",
    "tdf[\"Ptype\"] = X_test[\"Key_lvl3\"].map(lambda x: GetInfo(x,2))\n",
    "tdf[\"Price\"] = X_test[\"Key_lvl3\"].map(lambda x: GetInfo(x,3))\n",
    "tdf[\"Cluster\"] = 0.\n",
    "X_test = tdf.copy()\n",
    "\n",
    "display(X_test)\n",
    "\n",
    "X,y = encode_data(X_test)\n",
    "\n",
    "y_pred = classifier.predict(X)\n",
    "\n",
    "\n",
    "test_series.shape"
   ]
  },
  {
   "cell_type": "raw",
   "metadata": {},
   "source": [
    "from graphviz import Graph,Source\n",
    "from IPython.display import SVG\n",
    "\n",
    "graph = Source(export_graphviz(classifier, out_file=None\n",
    "   , feature_names=features, class_names=True\n",
    "   , filled = True))\n",
    "\n",
    "display(SVG(graph.pipe(format='svg')))\n"
   ]
  },
  {
   "cell_type": "code",
   "execution_count": null,
   "metadata": {},
   "outputs": [],
   "source": [
    "from sklearn.grid_search import GridSearchCV\n",
    "print(\"Fitting the classifier to the training set\")\n",
    "param_grid = {'C': [0.01, 0.1, 1, 10, 100], 'kernel': ['rbf', 'linear']}\n",
    "clf = GridSearchCV(SVC(class_weight='balanced'), param_grid)\n",
    "clf = clf.fit(X_train, y_train)\n",
    "print(\"Best estimator found by grid search:\")\n",
    "print(clf.best_estimator_)"
   ]
  },
  {
   "cell_type": "markdown",
   "metadata": {},
   "source": [
    "## Get clients description"
   ]
  },
  {
   "cell_type": "code",
   "execution_count": 43,
   "metadata": {},
   "outputs": [
    {
     "name": "stdout",
     "output_type": "stream",
     "text": [
      "(433, 14)\n"
     ]
    },
    {
     "data": {
      "text/html": [
       "<div>\n",
       "<table border=\"1\" class=\"dataframe\">\n",
       "  <thead>\n",
       "    <tr style=\"text-align: right;\">\n",
       "      <th></th>\n",
       "      <th>Key_lvl1</th>\n",
       "      <th>Description</th>\n",
       "      <th>Key_lvl2</th>\n",
       "      <th>Key_lvl3</th>\n",
       "      <th>Key_lvl4</th>\n",
       "      <th>Opening Date</th>\n",
       "      <th>City Level</th>\n",
       "      <th>Port Type</th>\n",
       "      <th>Operation State</th>\n",
       "      <th>Store Type</th>\n",
       "      <th>Store Level</th>\n",
       "      <th>Business Area</th>\n",
       "      <th>Store Style</th>\n",
       "      <th>Status</th>\n",
       "    </tr>\n",
       "  </thead>\n",
       "  <tbody>\n",
       "    <tr>\n",
       "      <th>0</th>\n",
       "      <td>01257</td>\n",
       "      <td>NA</td>\n",
       "      <td>大英区域</td>\n",
       "      <td>四川分公司</td>\n",
       "      <td>Total</td>\n",
       "      <td>2012-04-16</td>\n",
       "      <td>Level 4</td>\n",
       "      <td>Residential Community</td>\n",
       "      <td>Opening as normal</td>\n",
       "      <td>Single-layer Store</td>\n",
       "      <td>Level E</td>\n",
       "      <td>150</td>\n",
       "      <td>First-generation</td>\n",
       "      <td>Active</td>\n",
       "    </tr>\n",
       "    <tr>\n",
       "      <th>1</th>\n",
       "      <td>01258</td>\n",
       "      <td>NA</td>\n",
       "      <td>广巴区域</td>\n",
       "      <td>四川分公司</td>\n",
       "      <td>Total</td>\n",
       "      <td>2012-05-12</td>\n",
       "      <td>Level 2</td>\n",
       "      <td>Residential Community</td>\n",
       "      <td>Opening as normal</td>\n",
       "      <td>Single-layer Store</td>\n",
       "      <td>Level C</td>\n",
       "      <td>95.94</td>\n",
       "      <td>First-generation</td>\n",
       "      <td>Active</td>\n",
       "    </tr>\n",
       "    <tr>\n",
       "      <th>2</th>\n",
       "      <td>01259</td>\n",
       "      <td>NA</td>\n",
       "      <td>什绵区域</td>\n",
       "      <td>四川分公司</td>\n",
       "      <td>Total</td>\n",
       "      <td>2012-05-06</td>\n",
       "      <td>Level 3</td>\n",
       "      <td>Residential Community</td>\n",
       "      <td>Opening as normal</td>\n",
       "      <td>Single-layer Store</td>\n",
       "      <td>Level E</td>\n",
       "      <td>140</td>\n",
       "      <td>First-generation</td>\n",
       "      <td>Active</td>\n",
       "    </tr>\n",
       "    <tr>\n",
       "      <th>3</th>\n",
       "      <td>01262</td>\n",
       "      <td>NA</td>\n",
       "      <td>广汉区域</td>\n",
       "      <td>四川分公司</td>\n",
       "      <td>Total</td>\n",
       "      <td>2012-06-05</td>\n",
       "      <td>Level 4</td>\n",
       "      <td>Residential Community</td>\n",
       "      <td>Opening as normal</td>\n",
       "      <td>Single-layer Store</td>\n",
       "      <td>Level D</td>\n",
       "      <td>240</td>\n",
       "      <td>Second-generation</td>\n",
       "      <td>Active</td>\n",
       "    </tr>\n",
       "    <tr>\n",
       "      <th>4</th>\n",
       "      <td>01264</td>\n",
       "      <td>NA</td>\n",
       "      <td>独立二区</td>\n",
       "      <td>四川分公司</td>\n",
       "      <td>Total</td>\n",
       "      <td>2012-06-01</td>\n",
       "      <td>Level 1</td>\n",
       "      <td>Residential Community</td>\n",
       "      <td>Opening as normal</td>\n",
       "      <td>Single-layer Store</td>\n",
       "      <td>Level B</td>\n",
       "      <td>180</td>\n",
       "      <td>Second-generation</td>\n",
       "      <td>Active</td>\n",
       "    </tr>\n",
       "  </tbody>\n",
       "</table>\n",
       "</div>"
      ],
      "text/plain": [
       "  Key_lvl1 Description Key_lvl2 Key_lvl3 Key_lvl4 Opening Date City Level  \\\n",
       "0    01257          NA     大英区域    四川分公司    Total   2012-04-16    Level 4   \n",
       "1    01258          NA     广巴区域    四川分公司    Total   2012-05-12    Level 2   \n",
       "2    01259          NA     什绵区域    四川分公司    Total   2012-05-06    Level 3   \n",
       "3    01262          NA     广汉区域    四川分公司    Total   2012-06-05    Level 4   \n",
       "4    01264          NA     独立二区    四川分公司    Total   2012-06-01    Level 1   \n",
       "\n",
       "               Port Type    Operation State          Store Type Store Level  \\\n",
       "0  Residential Community  Opening as normal  Single-layer Store     Level E   \n",
       "1  Residential Community  Opening as normal  Single-layer Store     Level C   \n",
       "2  Residential Community  Opening as normal  Single-layer Store     Level E   \n",
       "3  Residential Community  Opening as normal  Single-layer Store     Level D   \n",
       "4  Residential Community  Opening as normal  Single-layer Store     Level B   \n",
       "\n",
       "  Business Area        Store Style  Status  \n",
       "0           150   First-generation  Active  \n",
       "1         95.94   First-generation  Active  \n",
       "2           140   First-generation  Active  \n",
       "3           240  Second-generation  Active  \n",
       "4           180  Second-generation  Active  "
      ]
     },
     "execution_count": 43,
     "metadata": {},
     "output_type": "execute_result"
    }
   ],
   "source": [
    "file_name = \"client_7cerf.txt\"\n",
    "non_unique_features = []\n",
    "unique_features = []\n",
    "\n",
    "client_df = pd.read_csv(raw_path+file_name, sep='\\t', encoding='utf-8').fillna(\"NA\")\n",
    "                    #.drop_duplicates()\n",
    "\n",
    "#client_df.to_csv(raw_path+\"client_7cerf.csv\",sep=';',encoding='utf-8')\n",
    "print(client_df.shape)\n",
    "client_df.head()"
   ]
  },
  {
   "cell_type": "code",
   "execution_count": 545,
   "metadata": {},
   "outputs": [
    {
     "data": {
      "text/plain": [
       "Level C       120\n",
       "Level D        90\n",
       "N              73\n",
       "Level E        70\n",
       "Level B        42\n",
       "Level A        24\n",
       "Standard       11\n",
       "Duty-free       2\n",
       "Large-size      1\n",
       "Name: Store Level, dtype: int64"
      ]
     },
     "execution_count": 545,
     "metadata": {},
     "output_type": "execute_result"
    }
   ],
   "source": [
    "client_df[\"Store Level\"].value_counts()"
   ]
  },
  {
   "cell_type": "code",
   "execution_count": 58,
   "metadata": {},
   "outputs": [],
   "source": [
    "%aimport external.df_translator\n",
    "from external import df_translator\n",
    "\n",
    "translator = df_translator.DFTranslator()\n",
    "\n",
    "# translator.create_dictionnary(client_df,columns = [\"Key_lvl2\",\"Key_lvl3\"])"
   ]
  },
  {
   "cell_type": "code",
   "execution_count": 547,
   "metadata": {},
   "outputs": [
    {
     "data": {
      "text/plain": [
       "{'MALL分公司': 'MALL Branch',\n",
       " 'MALL成都一区': 'MALL Chengdu Area',\n",
       " 'MALL重庆一区': 'MALL Chongqing District',\n",
       " '乐山区域': 'Leshan area',\n",
       " '什绵区域': 'The area',\n",
       " '仁寿区域': 'Renshou District',\n",
       " '内江区域': 'Neijiang area',\n",
       " '加盟云南区域': 'Join the Yunnan region',\n",
       " '加盟分公司': 'Affiliate branch',\n",
       " '加盟川东区域': 'Join East Sichuan area',\n",
       " '加盟川北区域': 'Affiliated to the northern Sichuan region',\n",
       " '加盟川南区域': 'Join the South Sichuan region',\n",
       " '加盟川西区域': 'Join Western Sichuan area',\n",
       " '加盟成都区域': 'Join Chengdu area',\n",
       " '南充区域': 'Nanchong area',\n",
       " '双流区域': 'Dual-stream area',\n",
       " '商品分公司': 'Commodity branch',\n",
       " '商品区域': 'Commodity area',\n",
       " '四川分公司': 'Sichuan Branch',\n",
       " '大英区域': 'British area',\n",
       " '安徽分公司': 'Anhui Branch',\n",
       " '安徽区域': 'Anhui area',\n",
       " '宜宾区域': 'Yibin area',\n",
       " '峨眉区域': 'Emei area',\n",
       " '广安区域': \"Guang'an area\",\n",
       " '广巴区域': 'Guangba area',\n",
       " '广汉区域': 'Guanghan area',\n",
       " '彭州区域': 'Pengzhou area',\n",
       " '德阳区域': 'Deyang area',\n",
       " '成都一区': 'Chengdu area',\n",
       " '成都二区': 'Chengdu Second District',\n",
       " '泸州区域': 'Zhangzhou area',\n",
       " '温江区域': 'Wenjiang area',\n",
       " '湖北分公司': 'Hubei Branch',\n",
       " '湖北区域': 'Hubei area',\n",
       " '独立一区': 'A separate area',\n",
       " '独立二区': 'Independent Second District',\n",
       " '眉山区域': 'Meishan District',\n",
       " '管理店分公司': 'Management shop branch',\n",
       " '管理店区域': 'Manage shop area',\n",
       " '绵阳区域': 'Mianyang area',\n",
       " '资阳区域': 'Ziyang District',\n",
       " '遂宁区域': 'Funing area',\n",
       " '都江堰区域': 'Dujiangyan area',\n",
       " '重庆区域': 'Chongqing area'}"
      ]
     },
     "execution_count": 547,
     "metadata": {},
     "output_type": "execute_result"
    }
   ],
   "source": [
    "dic = translator.load_dictionnary(raw_path+\"cl_dictionnary\")\n",
    "dic"
   ]
  },
  {
   "cell_type": "markdown",
   "metadata": {},
   "source": [
    "## Get Products description\n",
    "In order to get the product features description, an inner join on the product group key is operated on the cluster result with the products description file.\n",
    "\n",
    "Since the clustering was calculated on the second level group, some columns of the description file must be dropped in order to avoid duplicates of the first level products (mainly Promo and Standard version of the products)"
   ]
  },
  {
   "cell_type": "code",
   "execution_count": 1397,
   "metadata": {
    "scrolled": false
   },
   "outputs": [
    {
     "name": "stdout",
     "output_type": "stream",
     "text": [
      "(51349, 22)\n"
     ]
    },
    {
     "data": {
      "text/html": [
       "<div>\n",
       "<table border=\"1\" class=\"dataframe\">\n",
       "  <thead>\n",
       "    <tr style=\"text-align: right;\">\n",
       "      <th></th>\n",
       "      <th>Key_lvl1</th>\n",
       "      <th>Description</th>\n",
       "      <th>Key_lvl2</th>\n",
       "      <th>Key_lvl3</th>\n",
       "      <th>Key_lvl4</th>\n",
       "      <th>Key_lvl5</th>\n",
       "      <th>Key_lvl6</th>\n",
       "      <th>Key_lvl7</th>\n",
       "      <th>Continuation of</th>\n",
       "      <th>Base Price 1 Target Value</th>\n",
       "      <th>...</th>\n",
       "      <th>Size</th>\n",
       "      <th>Gender</th>\n",
       "      <th>Year of Commodity</th>\n",
       "      <th>Launch Date</th>\n",
       "      <th>Tag Price</th>\n",
       "      <th>Product Status</th>\n",
       "      <th>Sales Season</th>\n",
       "      <th>Continuation</th>\n",
       "      <th>Age Group</th>\n",
       "      <th>Product ABC Classification</th>\n",
       "    </tr>\n",
       "  </thead>\n",
       "  <tbody>\n",
       "    <tr>\n",
       "      <th>0</th>\n",
       "      <td>20300138600</td>\n",
       "      <td>RQC-老人头棉袜BL0017</td>\n",
       "      <td>203001386_2</td>\n",
       "      <td>男-短袜-长筒袜-8.25元</td>\n",
       "      <td>男-短袜-长筒袜</td>\n",
       "      <td>男-短袜</td>\n",
       "      <td>男</td>\n",
       "      <td>袜子</td>\n",
       "      <td>NaN</td>\n",
       "      <td>8.0</td>\n",
       "      <td>...</td>\n",
       "      <td>JM</td>\n",
       "      <td>No Gender</td>\n",
       "      <td>2011</td>\n",
       "      <td>01/01/1900</td>\n",
       "      <td>8.25</td>\n",
       "      <td>D</td>\n",
       "      <td>Autumn</td>\n",
       "      <td>NO</td>\n",
       "      <td>29-38</td>\n",
       "      <td>NaN</td>\n",
       "    </tr>\n",
       "    <tr>\n",
       "      <th>1</th>\n",
       "      <td>20300329000</td>\n",
       "      <td>RQC-国奥棉袜BL4038</td>\n",
       "      <td>203003290_2</td>\n",
       "      <td>男-短袜-长筒袜-4.38元</td>\n",
       "      <td>男-短袜-长筒袜</td>\n",
       "      <td>男-短袜</td>\n",
       "      <td>男</td>\n",
       "      <td>袜子</td>\n",
       "      <td>NaN</td>\n",
       "      <td>4.0</td>\n",
       "      <td>...</td>\n",
       "      <td>JM</td>\n",
       "      <td>No Gender</td>\n",
       "      <td>2011</td>\n",
       "      <td>01/01/1900</td>\n",
       "      <td>4.38</td>\n",
       "      <td>D</td>\n",
       "      <td>Autumn</td>\n",
       "      <td>NO</td>\n",
       "      <td>29-38</td>\n",
       "      <td>NaN</td>\n",
       "    </tr>\n",
       "    <tr>\n",
       "      <th>2</th>\n",
       "      <td>20300355500</td>\n",
       "      <td>RQC-爱国者棉袜BL010</td>\n",
       "      <td>203003555_2</td>\n",
       "      <td>男-短袜-长筒袜-4.76元</td>\n",
       "      <td>男-短袜-长筒袜</td>\n",
       "      <td>男-短袜</td>\n",
       "      <td>男</td>\n",
       "      <td>袜子</td>\n",
       "      <td>NaN</td>\n",
       "      <td>5.0</td>\n",
       "      <td>...</td>\n",
       "      <td>JM</td>\n",
       "      <td>No Gender</td>\n",
       "      <td>2011</td>\n",
       "      <td>01/01/1900</td>\n",
       "      <td>4.76</td>\n",
       "      <td>D</td>\n",
       "      <td>Autumn</td>\n",
       "      <td>NO</td>\n",
       "      <td>29-38</td>\n",
       "      <td>NaN</td>\n",
       "    </tr>\n",
       "    <tr>\n",
       "      <th>3</th>\n",
       "      <td>20300418700</td>\n",
       "      <td>RQC-老人头棉袜BL0020</td>\n",
       "      <td>203004187_2</td>\n",
       "      <td>男-短袜-长筒袜-8.25元</td>\n",
       "      <td>男-短袜-长筒袜</td>\n",
       "      <td>男-短袜</td>\n",
       "      <td>男</td>\n",
       "      <td>袜子</td>\n",
       "      <td>NaN</td>\n",
       "      <td>8.0</td>\n",
       "      <td>...</td>\n",
       "      <td>JM</td>\n",
       "      <td>No Gender</td>\n",
       "      <td>2011</td>\n",
       "      <td>01/01/1900</td>\n",
       "      <td>8.25</td>\n",
       "      <td>D</td>\n",
       "      <td>Autumn</td>\n",
       "      <td>NO</td>\n",
       "      <td>29-38</td>\n",
       "      <td>NaN</td>\n",
       "    </tr>\n",
       "    <tr>\n",
       "      <th>4</th>\n",
       "      <td>20300419000</td>\n",
       "      <td>RQC-老人头棉袜BL0021</td>\n",
       "      <td>203004190_2</td>\n",
       "      <td>男-短袜-长筒袜-7.5元</td>\n",
       "      <td>男-短袜-长筒袜</td>\n",
       "      <td>男-短袜</td>\n",
       "      <td>男</td>\n",
       "      <td>袜子</td>\n",
       "      <td>NaN</td>\n",
       "      <td>8.0</td>\n",
       "      <td>...</td>\n",
       "      <td>JM</td>\n",
       "      <td>No Gender</td>\n",
       "      <td>2011</td>\n",
       "      <td>01/01/1900</td>\n",
       "      <td>7.50</td>\n",
       "      <td>D</td>\n",
       "      <td>Autumn</td>\n",
       "      <td>NO</td>\n",
       "      <td>29-38</td>\n",
       "      <td>NaN</td>\n",
       "    </tr>\n",
       "  </tbody>\n",
       "</table>\n",
       "<p>5 rows × 22 columns</p>\n",
       "</div>"
      ],
      "text/plain": [
       "      Key_lvl1      Description     Key_lvl2        Key_lvl3  Key_lvl4  \\\n",
       "0  20300138600  RQC-老人头棉袜BL0017  203001386_2  男-短袜-长筒袜-8.25元  男-短袜-长筒袜   \n",
       "1  20300329000   RQC-国奥棉袜BL4038  203003290_2  男-短袜-长筒袜-4.38元  男-短袜-长筒袜   \n",
       "2  20300355500   RQC-爱国者棉袜BL010  203003555_2  男-短袜-长筒袜-4.76元  男-短袜-长筒袜   \n",
       "3  20300418700  RQC-老人头棉袜BL0020  203004187_2  男-短袜-长筒袜-8.25元  男-短袜-长筒袜   \n",
       "4  20300419000  RQC-老人头棉袜BL0021  203004190_2   男-短袜-长筒袜-7.5元  男-短袜-长筒袜   \n",
       "\n",
       "  Key_lvl5 Key_lvl6 Key_lvl7  Continuation of  Base Price 1 Target Value  \\\n",
       "0     男-短袜        男       袜子              NaN                        8.0   \n",
       "1     男-短袜        男       袜子              NaN                        4.0   \n",
       "2     男-短袜        男       袜子              NaN                        5.0   \n",
       "3     男-短袜        男       袜子              NaN                        8.0   \n",
       "4     男-短袜        男       袜子              NaN                        8.0   \n",
       "\n",
       "             ...              Size     Gender Year of Commodity Launch Date  \\\n",
       "0            ...                JM  No Gender              2011  01/01/1900   \n",
       "1            ...                JM  No Gender              2011  01/01/1900   \n",
       "2            ...                JM  No Gender              2011  01/01/1900   \n",
       "3            ...                JM  No Gender              2011  01/01/1900   \n",
       "4            ...                JM  No Gender              2011  01/01/1900   \n",
       "\n",
       "   Tag Price Product Status  Sales Season Continuation Age Group  \\\n",
       "0       8.25              D        Autumn           NO     29-38   \n",
       "1       4.38              D        Autumn           NO     29-38   \n",
       "2       4.76              D        Autumn           NO     29-38   \n",
       "3       8.25              D        Autumn           NO     29-38   \n",
       "4       7.50              D        Autumn           NO     29-38   \n",
       "\n",
       "  Product ABC Classification  \n",
       "0                        NaN  \n",
       "1                        NaN  \n",
       "2                        NaN  \n",
       "3                        NaN  \n",
       "4                        NaN  \n",
       "\n",
       "[5 rows x 22 columns]"
      ]
     },
     "execution_count": 1397,
     "metadata": {},
     "output_type": "execute_result"
    }
   ],
   "source": [
    "file_name = \"product_7cerf.txt\"\n",
    "\n",
    "non_unique_features=[]\n",
    "\n",
    "code_features = []\n",
    "\n",
    "\n",
    "\n",
    "df_produit = pd.read_csv(raw_path+file_name, sep='\\t',encoding=\"utf8\")\n",
    "\n",
    "\n",
    "                \n",
    "# df_produit = df_produit.drop(code_features,axis=1)\n",
    "# df_produit = df_produit.drop_duplicates()\n",
    "# df_produit = df_produit.dropna(how=\"all\")\n",
    "# df_produit = df_produit.reset_index(drop=True)\n",
    "# df_produit = df_produit.apply(lambda x:x.astype(str).str.upper())\n",
    "\n",
    "\n",
    "df_produit = df_produit.drop_duplicates([\"Key_lvl2\",\"Description\"])\n",
    "\n",
    "\n",
    "print(df_produit.shape)\n",
    "df_produit.head()"
   ]
  },
  {
   "cell_type": "code",
   "execution_count": 2136,
   "metadata": {},
   "outputs": [
    {
     "data": {
      "text/html": [
       "<div>\n",
       "<table border=\"1\" class=\"dataframe\">\n",
       "  <thead>\n",
       "    <tr style=\"text-align: right;\">\n",
       "      <th></th>\n",
       "      <th>Key_lvl5</th>\n",
       "      <th>Key_lvl6</th>\n",
       "      <th>Key_lvl7</th>\n",
       "      <th>Continuation of</th>\n",
       "      <th>Base Price 1 Target Value</th>\n",
       "      <th>Base Price 1 Coefficient Table</th>\n",
       "      <th>Color</th>\n",
       "      <th>Size</th>\n",
       "      <th>Gender</th>\n",
       "      <th>Year of Commodity</th>\n",
       "      <th>Launch Date</th>\n",
       "      <th>Tag Price</th>\n",
       "    </tr>\n",
       "  </thead>\n",
       "  <tbody>\n",
       "    <tr>\n",
       "      <th>0</th>\n",
       "      <td>男-短袜</td>\n",
       "      <td>男</td>\n",
       "      <td>袜子</td>\n",
       "      <td>NaN</td>\n",
       "      <td>8.0</td>\n",
       "      <td>NaN</td>\n",
       "      <td>No Color</td>\n",
       "      <td>JM</td>\n",
       "      <td>No Gender</td>\n",
       "      <td>2011</td>\n",
       "      <td>01/01/1900</td>\n",
       "      <td>8.25</td>\n",
       "    </tr>\n",
       "    <tr>\n",
       "      <th>1</th>\n",
       "      <td>男-短袜</td>\n",
       "      <td>男</td>\n",
       "      <td>袜子</td>\n",
       "      <td>NaN</td>\n",
       "      <td>4.0</td>\n",
       "      <td>NaN</td>\n",
       "      <td>No Color</td>\n",
       "      <td>JM</td>\n",
       "      <td>No Gender</td>\n",
       "      <td>2011</td>\n",
       "      <td>01/01/1900</td>\n",
       "      <td>4.38</td>\n",
       "    </tr>\n",
       "    <tr>\n",
       "      <th>2</th>\n",
       "      <td>男-短袜</td>\n",
       "      <td>男</td>\n",
       "      <td>袜子</td>\n",
       "      <td>NaN</td>\n",
       "      <td>5.0</td>\n",
       "      <td>NaN</td>\n",
       "      <td>No Color</td>\n",
       "      <td>JM</td>\n",
       "      <td>No Gender</td>\n",
       "      <td>2011</td>\n",
       "      <td>01/01/1900</td>\n",
       "      <td>4.76</td>\n",
       "    </tr>\n",
       "    <tr>\n",
       "      <th>3</th>\n",
       "      <td>男-短袜</td>\n",
       "      <td>男</td>\n",
       "      <td>袜子</td>\n",
       "      <td>NaN</td>\n",
       "      <td>8.0</td>\n",
       "      <td>NaN</td>\n",
       "      <td>No Color</td>\n",
       "      <td>JM</td>\n",
       "      <td>No Gender</td>\n",
       "      <td>2011</td>\n",
       "      <td>01/01/1900</td>\n",
       "      <td>8.25</td>\n",
       "    </tr>\n",
       "    <tr>\n",
       "      <th>4</th>\n",
       "      <td>男-短袜</td>\n",
       "      <td>男</td>\n",
       "      <td>袜子</td>\n",
       "      <td>NaN</td>\n",
       "      <td>8.0</td>\n",
       "      <td>NaN</td>\n",
       "      <td>No Color</td>\n",
       "      <td>JM</td>\n",
       "      <td>No Gender</td>\n",
       "      <td>2011</td>\n",
       "      <td>01/01/1900</td>\n",
       "      <td>7.50</td>\n",
       "    </tr>\n",
       "  </tbody>\n",
       "</table>\n",
       "</div>"
      ],
      "text/plain": [
       "  Key_lvl5 Key_lvl6 Key_lvl7  Continuation of  Base Price 1 Target Value  \\\n",
       "0     男-短袜        男       袜子              NaN                        8.0   \n",
       "1     男-短袜        男       袜子              NaN                        4.0   \n",
       "2     男-短袜        男       袜子              NaN                        5.0   \n",
       "3     男-短袜        男       袜子              NaN                        8.0   \n",
       "4     男-短袜        男       袜子              NaN                        8.0   \n",
       "\n",
       "   Base Price 1 Coefficient Table     Color Size     Gender  \\\n",
       "0                             NaN  No Color   JM  No Gender   \n",
       "1                             NaN  No Color   JM  No Gender   \n",
       "2                             NaN  No Color   JM  No Gender   \n",
       "3                             NaN  No Color   JM  No Gender   \n",
       "4                             NaN  No Color   JM  No Gender   \n",
       "\n",
       "   Year of Commodity Launch Date  Tag Price  \n",
       "0               2011  01/01/1900       8.25  \n",
       "1               2011  01/01/1900       4.38  \n",
       "2               2011  01/01/1900       4.76  \n",
       "3               2011  01/01/1900       8.25  \n",
       "4               2011  01/01/1900       7.50  "
      ]
     },
     "execution_count": 2136,
     "metadata": {},
     "output_type": "execute_result"
    }
   ],
   "source": [
    "df_produit.iloc[:,5:-5].head()"
   ]
  },
  {
   "cell_type": "code",
   "execution_count": 2137,
   "metadata": {},
   "outputs": [
    {
     "data": {
      "text/plain": [
       "9.00      4221\n",
       "10.00     3606\n",
       "12.00     3425\n",
       "15.00     2932\n",
       "7.00      2437\n",
       "          ... \n",
       "27.75        1\n",
       "61.74        1\n",
       "216.00       1\n",
       "9.31         1\n",
       "15.90        1\n",
       "Name: Tag Price, dtype: int64"
      ]
     },
     "execution_count": 2137,
     "metadata": {},
     "output_type": "execute_result"
    }
   ],
   "source": [
    "df_produit[\"Tag Price\"].value_counts()"
   ]
  },
  {
   "cell_type": "markdown",
   "metadata": {},
   "source": [
    "## Table of products and  clusters"
   ]
  },
  {
   "cell_type": "code",
   "execution_count": 1398,
   "metadata": {},
   "outputs": [
    {
     "name": "stdout",
     "output_type": "stream",
     "text": [
      "(1046, 17)\n"
     ]
    },
    {
     "data": {
      "text/html": [
       "<div>\n",
       "<table border=\"1\" class=\"dataframe\">\n",
       "  <thead>\n",
       "    <tr style=\"text-align: right;\">\n",
       "      <th></th>\n",
       "      <th>Key_lvl1</th>\n",
       "      <th>Key_lvl2</th>\n",
       "      <th>Key_lvl3</th>\n",
       "      <th>Key_lvl4</th>\n",
       "      <th>Key_lvl5</th>\n",
       "      <th>Key_lvl6</th>\n",
       "      <th>Base Price 1 Target Value</th>\n",
       "      <th>Color</th>\n",
       "      <th>Size</th>\n",
       "      <th>Gender</th>\n",
       "      <th>Year of Commodity</th>\n",
       "      <th>Launch Date</th>\n",
       "      <th>Tag Price</th>\n",
       "      <th>Sales Season</th>\n",
       "      <th>Age Group</th>\n",
       "      <th>Cluster</th>\n",
       "      <th>Centroid</th>\n",
       "    </tr>\n",
       "  </thead>\n",
       "  <tbody>\n",
       "    <tr>\n",
       "      <th>0</th>\n",
       "      <td>31C0009635602</td>\n",
       "      <td>31C000963_2</td>\n",
       "      <td>女-内穿一体裤-薄型-29元</td>\n",
       "      <td>女-内穿一体裤-薄型</td>\n",
       "      <td>女-内穿一体裤</td>\n",
       "      <td>女</td>\n",
       "      <td>29.0</td>\n",
       "      <td>Black</td>\n",
       "      <td>Sheer</td>\n",
       "      <td>No Gender</td>\n",
       "      <td>2016</td>\n",
       "      <td>05/10/2016</td>\n",
       "      <td>29.0</td>\n",
       "      <td>Autumn</td>\n",
       "      <td>29-38</td>\n",
       "      <td>8</td>\n",
       "      <td>335030700_2</td>\n",
       "    </tr>\n",
       "    <tr>\n",
       "      <th>1</th>\n",
       "      <td>31C0022017000</td>\n",
       "      <td>31C002201_2</td>\n",
       "      <td>女-内穿一体裤-薄型-29元</td>\n",
       "      <td>女-内穿一体裤-薄型</td>\n",
       "      <td>女-内穿一体裤</td>\n",
       "      <td>女</td>\n",
       "      <td>29.0</td>\n",
       "      <td>Gray</td>\n",
       "      <td>No Size</td>\n",
       "      <td>No Gender</td>\n",
       "      <td>2016</td>\n",
       "      <td>08/09/2016</td>\n",
       "      <td>29.0</td>\n",
       "      <td>Autumn</td>\n",
       "      <td>18-28</td>\n",
       "      <td>4</td>\n",
       "      <td>345010900_2</td>\n",
       "    </tr>\n",
       "    <tr>\n",
       "      <th>2</th>\n",
       "      <td>31C0023005602</td>\n",
       "      <td>31C002300_2</td>\n",
       "      <td>女-内穿一体裤-薄型-29元</td>\n",
       "      <td>女-内穿一体裤-薄型</td>\n",
       "      <td>女-内穿一体裤</td>\n",
       "      <td>女</td>\n",
       "      <td>29.0</td>\n",
       "      <td>Black</td>\n",
       "      <td>Sheer</td>\n",
       "      <td>No Gender</td>\n",
       "      <td>2016</td>\n",
       "      <td>25/10/2016</td>\n",
       "      <td>29.0</td>\n",
       "      <td>Autumn</td>\n",
       "      <td>29-38</td>\n",
       "      <td>8</td>\n",
       "      <td>335030700_2</td>\n",
       "    </tr>\n",
       "    <tr>\n",
       "      <th>3</th>\n",
       "      <td>31C0024005602</td>\n",
       "      <td>31C002400_2</td>\n",
       "      <td>女-内穿一体裤-薄型-39元</td>\n",
       "      <td>女-内穿一体裤-薄型</td>\n",
       "      <td>女-内穿一体裤</td>\n",
       "      <td>女</td>\n",
       "      <td>39.0</td>\n",
       "      <td>Black</td>\n",
       "      <td>Sheer</td>\n",
       "      <td>No Gender</td>\n",
       "      <td>2017</td>\n",
       "      <td>15/09/2017</td>\n",
       "      <td>39.0</td>\n",
       "      <td>Autumn</td>\n",
       "      <td>29-38</td>\n",
       "      <td>2</td>\n",
       "      <td>338013800_2</td>\n",
       "    </tr>\n",
       "    <tr>\n",
       "      <th>4</th>\n",
       "      <td>31C0025005602</td>\n",
       "      <td>31C002500_2</td>\n",
       "      <td>女-内穿一体裤-薄型-29元</td>\n",
       "      <td>女-内穿一体裤-薄型</td>\n",
       "      <td>女-内穿一体裤</td>\n",
       "      <td>女</td>\n",
       "      <td>29.0</td>\n",
       "      <td>Black</td>\n",
       "      <td>Sheer</td>\n",
       "      <td>No Gender</td>\n",
       "      <td>2017</td>\n",
       "      <td>11/09/2017</td>\n",
       "      <td>29.0</td>\n",
       "      <td>Autumn</td>\n",
       "      <td>18-28</td>\n",
       "      <td>6</td>\n",
       "      <td>34B000000_2</td>\n",
       "    </tr>\n",
       "  </tbody>\n",
       "</table>\n",
       "</div>"
      ],
      "text/plain": [
       "        Key_lvl1     Key_lvl2        Key_lvl3    Key_lvl4 Key_lvl5 Key_lvl6  \\\n",
       "0  31C0009635602  31C000963_2  女-内穿一体裤-薄型-29元  女-内穿一体裤-薄型  女-内穿一体裤        女   \n",
       "1  31C0022017000  31C002201_2  女-内穿一体裤-薄型-29元  女-内穿一体裤-薄型  女-内穿一体裤        女   \n",
       "2  31C0023005602  31C002300_2  女-内穿一体裤-薄型-29元  女-内穿一体裤-薄型  女-内穿一体裤        女   \n",
       "3  31C0024005602  31C002400_2  女-内穿一体裤-薄型-39元  女-内穿一体裤-薄型  女-内穿一体裤        女   \n",
       "4  31C0025005602  31C002500_2  女-内穿一体裤-薄型-29元  女-内穿一体裤-薄型  女-内穿一体裤        女   \n",
       "\n",
       "   Base Price 1 Target Value  Color     Size     Gender  Year of Commodity  \\\n",
       "0                       29.0  Black    Sheer  No Gender               2016   \n",
       "1                       29.0   Gray  No Size  No Gender               2016   \n",
       "2                       29.0  Black    Sheer  No Gender               2016   \n",
       "3                       39.0  Black    Sheer  No Gender               2017   \n",
       "4                       29.0  Black    Sheer  No Gender               2017   \n",
       "\n",
       "  Launch Date  Tag Price Sales Season Age Group  Cluster     Centroid  \n",
       "0  05/10/2016       29.0       Autumn     29-38        8  335030700_2  \n",
       "1  08/09/2016       29.0       Autumn     18-28        4  345010900_2  \n",
       "2  25/10/2016       29.0       Autumn     29-38        8  335030700_2  \n",
       "3  15/09/2017       39.0       Autumn     29-38        2  338013800_2  \n",
       "4  11/09/2017       29.0       Autumn     18-28        6  34B000000_2  "
      ]
     },
     "metadata": {},
     "output_type": "display_data"
    }
   ],
   "source": [
    "unbalanced = [\"Description\",\"Key_lvl7\",\"Product Status\"]#,\"Sales Season\"\n",
    "\n",
    "#Join with clusters\n",
    "product_cluster = df_produit.join(df_prd_cluster,on='Key_lvl2',how='inner').reset_index(drop = True).dropna(axis = 1)\n",
    "product_cluster.drop(unbalanced, axis = 1 , inplace=True)\n",
    "rw = product_cluster.copy()\n",
    "\n",
    "prp.display(product_cluster)\n",
    "\n",
    "#product_cluster.to_csv(interim_path+\"product_cluster.csv\",sep=\";\",encoding=\"utf-8\")"
   ]
  },
  {
   "cell_type": "markdown",
   "metadata": {},
   "source": [
    "## Translate Features"
   ]
  },
  {
   "cell_type": "markdown",
   "metadata": {},
   "source": [
    "#### Load chinese features and translate them"
   ]
  },
  {
   "cell_type": "raw",
   "metadata": {},
   "source": [
    "from googletrans import Translator as Translator\n",
    "\n",
    "dictionnary = {}\n",
    "values = df_produit[[\"Key_lvl3\",\"Key_lvl4\",\"Key_lvl5\",\"Key_lvl6\",\"Key_lvl7\"]].drop_duplicates().values.ravel()\n",
    "words = list(np.unique(values))\n",
    "\n",
    "translator = Translator()\n",
    "t = translator.translate(words,dest=\"en\")\n",
    "translated =[]\n",
    "for u in t:\n",
    "    translated.append(u.text)"
   ]
  },
  {
   "cell_type": "markdown",
   "metadata": {},
   "source": [
    "#### Create a CH==>EN dictionnary for all the features and save it to a file"
   ]
  },
  {
   "cell_type": "raw",
   "metadata": {},
   "source": [
    "for i,ts in enumerate(translated):\n",
    "    dictionnary[words[i]] = ts \n",
    "np.save(raw_path+'dictionnary.npy', dictionnary) "
   ]
  },
  {
   "cell_type": "markdown",
   "metadata": {},
   "source": [
    "#### Load the dictionnary file"
   ]
  },
  {
   "cell_type": "raw",
   "metadata": {},
   "source": [
    "# Load dictionnary\n",
    "dico = np.load(raw_path+'dictionnary.npy').item()"
   ]
  },
  {
   "cell_type": "markdown",
   "metadata": {},
   "source": [
    "### Translate the products dataframe"
   ]
  },
  {
   "cell_type": "code",
   "execution_count": 1399,
   "metadata": {},
   "outputs": [
    {
     "name": "stdout",
     "output_type": "stream",
     "text": [
      "(1046, 17)\n"
     ]
    },
    {
     "data": {
      "text/html": [
       "<div>\n",
       "<table border=\"1\" class=\"dataframe\">\n",
       "  <thead>\n",
       "    <tr style=\"text-align: right;\">\n",
       "      <th></th>\n",
       "      <th>Key_lvl1</th>\n",
       "      <th>Key_lvl2</th>\n",
       "      <th>Key_lvl3</th>\n",
       "      <th>Key_lvl4</th>\n",
       "      <th>Key_lvl5</th>\n",
       "      <th>Key_lvl6</th>\n",
       "      <th>Base Price 1 Target Value</th>\n",
       "      <th>Color</th>\n",
       "      <th>Size</th>\n",
       "      <th>Gender</th>\n",
       "      <th>Year of Commodity</th>\n",
       "      <th>Launch Date</th>\n",
       "      <th>Tag Price</th>\n",
       "      <th>Sales Season</th>\n",
       "      <th>Age Group</th>\n",
       "      <th>Cluster</th>\n",
       "      <th>Centroid</th>\n",
       "    </tr>\n",
       "  </thead>\n",
       "  <tbody>\n",
       "    <tr>\n",
       "      <th>0</th>\n",
       "      <td>31C0009635602</td>\n",
       "      <td>31C000963_2</td>\n",
       "      <td>Female - One-piece pants inside - Thin - $29</td>\n",
       "      <td>Female - One Internal Pants - Thin</td>\n",
       "      <td>Female - One-piece pants</td>\n",
       "      <td>Female</td>\n",
       "      <td>29.0</td>\n",
       "      <td>Black</td>\n",
       "      <td>Sheer</td>\n",
       "      <td>No Gender</td>\n",
       "      <td>2016</td>\n",
       "      <td>05/10/2016</td>\n",
       "      <td>29.0</td>\n",
       "      <td>Autumn</td>\n",
       "      <td>29-38</td>\n",
       "      <td>8</td>\n",
       "      <td>335030700_2</td>\n",
       "    </tr>\n",
       "    <tr>\n",
       "      <th>1</th>\n",
       "      <td>31C0022017000</td>\n",
       "      <td>31C002201_2</td>\n",
       "      <td>Female - One-piece pants inside - Thin - $29</td>\n",
       "      <td>Female - One Internal Pants - Thin</td>\n",
       "      <td>Female - One-piece pants</td>\n",
       "      <td>Female</td>\n",
       "      <td>29.0</td>\n",
       "      <td>Gray</td>\n",
       "      <td>No Size</td>\n",
       "      <td>No Gender</td>\n",
       "      <td>2016</td>\n",
       "      <td>08/09/2016</td>\n",
       "      <td>29.0</td>\n",
       "      <td>Autumn</td>\n",
       "      <td>18-28</td>\n",
       "      <td>4</td>\n",
       "      <td>345010900_2</td>\n",
       "    </tr>\n",
       "    <tr>\n",
       "      <th>2</th>\n",
       "      <td>31C0023005602</td>\n",
       "      <td>31C002300_2</td>\n",
       "      <td>Female - One-piece pants inside - Thin - $29</td>\n",
       "      <td>Female - One Internal Pants - Thin</td>\n",
       "      <td>Female - One-piece pants</td>\n",
       "      <td>Female</td>\n",
       "      <td>29.0</td>\n",
       "      <td>Black</td>\n",
       "      <td>Sheer</td>\n",
       "      <td>No Gender</td>\n",
       "      <td>2016</td>\n",
       "      <td>25/10/2016</td>\n",
       "      <td>29.0</td>\n",
       "      <td>Autumn</td>\n",
       "      <td>29-38</td>\n",
       "      <td>8</td>\n",
       "      <td>335030700_2</td>\n",
       "    </tr>\n",
       "    <tr>\n",
       "      <th>3</th>\n",
       "      <td>31C0024005602</td>\n",
       "      <td>31C002400_2</td>\n",
       "      <td>Female - One-piece pants inside - Thin - $39</td>\n",
       "      <td>Female - One Internal Pants - Thin</td>\n",
       "      <td>Female - One-piece pants</td>\n",
       "      <td>Female</td>\n",
       "      <td>39.0</td>\n",
       "      <td>Black</td>\n",
       "      <td>Sheer</td>\n",
       "      <td>No Gender</td>\n",
       "      <td>2017</td>\n",
       "      <td>15/09/2017</td>\n",
       "      <td>39.0</td>\n",
       "      <td>Autumn</td>\n",
       "      <td>29-38</td>\n",
       "      <td>2</td>\n",
       "      <td>338013800_2</td>\n",
       "    </tr>\n",
       "    <tr>\n",
       "      <th>4</th>\n",
       "      <td>31C0025005602</td>\n",
       "      <td>31C002500_2</td>\n",
       "      <td>Female - One-piece pants inside - Thin - $29</td>\n",
       "      <td>Female - One Internal Pants - Thin</td>\n",
       "      <td>Female - One-piece pants</td>\n",
       "      <td>Female</td>\n",
       "      <td>29.0</td>\n",
       "      <td>Black</td>\n",
       "      <td>Sheer</td>\n",
       "      <td>No Gender</td>\n",
       "      <td>2017</td>\n",
       "      <td>11/09/2017</td>\n",
       "      <td>29.0</td>\n",
       "      <td>Autumn</td>\n",
       "      <td>18-28</td>\n",
       "      <td>6</td>\n",
       "      <td>34B000000_2</td>\n",
       "    </tr>\n",
       "  </tbody>\n",
       "</table>\n",
       "</div>"
      ],
      "text/plain": [
       "        Key_lvl1     Key_lvl2                                      Key_lvl3  \\\n",
       "0  31C0009635602  31C000963_2  Female - One-piece pants inside - Thin - $29   \n",
       "1  31C0022017000  31C002201_2  Female - One-piece pants inside - Thin - $29   \n",
       "2  31C0023005602  31C002300_2  Female - One-piece pants inside - Thin - $29   \n",
       "3  31C0024005602  31C002400_2  Female - One-piece pants inside - Thin - $39   \n",
       "4  31C0025005602  31C002500_2  Female - One-piece pants inside - Thin - $29   \n",
       "\n",
       "                             Key_lvl4                  Key_lvl5 Key_lvl6  \\\n",
       "0  Female - One Internal Pants - Thin  Female - One-piece pants   Female   \n",
       "1  Female - One Internal Pants - Thin  Female - One-piece pants   Female   \n",
       "2  Female - One Internal Pants - Thin  Female - One-piece pants   Female   \n",
       "3  Female - One Internal Pants - Thin  Female - One-piece pants   Female   \n",
       "4  Female - One Internal Pants - Thin  Female - One-piece pants   Female   \n",
       "\n",
       "   Base Price 1 Target Value  Color     Size     Gender  Year of Commodity  \\\n",
       "0                       29.0  Black    Sheer  No Gender               2016   \n",
       "1                       29.0   Gray  No Size  No Gender               2016   \n",
       "2                       29.0  Black    Sheer  No Gender               2016   \n",
       "3                       39.0  Black    Sheer  No Gender               2017   \n",
       "4                       29.0  Black    Sheer  No Gender               2017   \n",
       "\n",
       "  Launch Date  Tag Price Sales Season Age Group  Cluster     Centroid  \n",
       "0  05/10/2016       29.0       Autumn     29-38        8  335030700_2  \n",
       "1  08/09/2016       29.0       Autumn     18-28        4  345010900_2  \n",
       "2  25/10/2016       29.0       Autumn     29-38        8  335030700_2  \n",
       "3  15/09/2017       39.0       Autumn     29-38        2  338013800_2  \n",
       "4  11/09/2017       29.0       Autumn     18-28        6  34B000000_2  "
      ]
     },
     "metadata": {},
     "output_type": "display_data"
    }
   ],
   "source": [
    "product_cluster = prp.translate_df(product_cluster,columns=[\"Key_lvl3\",\"Key_lvl4\",\"Key_lvl5\",\"Key_lvl6\"])\n",
    "prp.display(product_cluster)   "
   ]
  },
  {
   "cell_type": "markdown",
   "metadata": {},
   "source": [
    "## Merge Products and Clients tables"
   ]
  },
  {
   "cell_type": "raw",
   "metadata": {},
   "source": [
    "produit_client_cluster = pd.merge(product_cluster,client_df,how='inner', left_on=[\"Client\"],right_on =[\"Key_lvl4\"] )#.drop([\"Key_lvl4\"],axis=1)\n",
    "\n",
    "clusters = produit_client_cluster[\"Cluster\"]\n",
    "centroids = produit_client_cluster[\"Centroid\"]\n",
    "produit_client_cluster = produit_client_cluster.drop([\"Cluster\",\"Centroid\"],axis=1)\n",
    "\n",
    "pos = len(produit_client_cluster.columns)\n",
    "produit_client_cluster.insert(pos,\"Cluster\",clusters)\n",
    "produit_client_cluster.insert(pos+1,\"Centroid\",centroids)\n",
    "\n",
    "all_features = produit_client_cluster.columns[:-2].drop(unbalanced)\n",
    "all_features = product_cluster.columns[:-2]\n",
    "\n",
    "print(produit_client_cluster.shape)\n",
    "produit_client_cluster.tail()\n",
    "\n",
    "# absent = produit_client_cluster[produit_client_cluster[\"Key_lvl5\"].isnull()][\"Client\"].drop_duplicates()\n",
    "# absent.tail()"
   ]
  },
  {
   "cell_type": "markdown",
   "metadata": {},
   "source": [
    "Save the final result into a csv file for further exploration"
   ]
  },
  {
   "cell_type": "code",
   "execution_count": 1400,
   "metadata": {},
   "outputs": [],
   "source": [
    "filename = \"p2_clustering_clean_week_3.csv\"\n",
    "product_cluster.to_csv(processed_path+filename,sep=';',encoding='utf-8')"
   ]
  },
  {
   "cell_type": "markdown",
   "metadata": {},
   "source": [
    "## Exploratory Data Analysis"
   ]
  },
  {
   "cell_type": "raw",
   "metadata": {},
   "source": [
    "df = product_cluster\n",
    "\n",
    "pd.crosstab(df[\"Sales Season\"],df[\"Key_lvl5\"])\n",
    "peu = list((df[\"Key_lvl3\"].value_counts()==1).index)\n",
    "print(len(peu))\n",
    "df.loc[df[\"Key_lvl3\"].isin(peu)]\n",
    "\n",
    "\n",
    "df[\"Key_lvl3\"].value_counts()==1\n",
    "\n",
    "df.tail()"
   ]
  },
  {
   "cell_type": "raw",
   "metadata": {},
   "source": [
    "%matplotlib inline\n",
    "# prp.display(product_cluster)\n",
    "desc = df.astype(str).describe(include=\"all\")\n",
    "prp.display(desc)\n",
    "\n",
    "# cross=pd.crosstab(product_cluster[\"Key_lvl3\"],product_cluster[\"Tag Price\"])\n",
    "df[\"Tag Price\"].plot(kind=\"hist\");\n",
    "print(df[\"Tag Price\"].skew())\n",
    "#product_cluster[\"Tag Price\"].plot(kind=\"kde\");"
   ]
  },
  {
   "cell_type": "raw",
   "metadata": {},
   "source": [
    "pd.crosstab(df.Gender,df[\"Age Group\"])\n",
    "pd.crosstab(df.Key_lvl6,df.Gender).plot(kind='bar')\n",
    "pd.crosstab(df.Key_lvl6,df.Key_lvl5)"
   ]
  },
  {
   "cell_type": "raw",
   "metadata": {},
   "source": [
    "df.pivot_table(index='Key_lvl6',columns='Key_lvl5',values='Cluster',aggfunc='count')"
   ]
  },
  {
   "cell_type": "raw",
   "metadata": {},
   "source": [
    "df.groupby([\"Color\"]).Cluster.transform('median')"
   ]
  }
 ],
 "metadata": {
  "kernelspec": {
   "display_name": "Python (dev_py34)",
   "language": "python",
   "name": "dev_py34"
  },
  "language_info": {
   "codemirror_mode": {
    "name": "ipython",
    "version": 3
   },
   "file_extension": ".py",
   "mimetype": "text/x-python",
   "name": "python",
   "nbconvert_exporter": "python",
   "pygments_lexer": "ipython3",
   "version": "3.4.5"
  },
  "widgets": {
   "application/vnd.jupyter.widget-state+json": {
    "state": {},
    "version_major": 2,
    "version_minor": 0
   }
  }
 },
 "nbformat": 4,
 "nbformat_minor": 2
}
