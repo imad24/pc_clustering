{
 "cells": [
  {
   "cell_type": "markdown",
   "metadata": {},
   "source": [
    "## 1. Import data"
   ]
  },
  {
   "cell_type": "code",
   "execution_count": 40,
   "metadata": {},
   "outputs": [
    {
     "name": "stderr",
     "output_type": "stream",
     "text": [
      "2018-07-17 15:10:22,738 - __main__ - INFO - Load raw data file (Huge file, please be patient)...\n",
      "2018-07-17 15:10:41,103 - __main__ - INFO - Droping uneccessary columns...\n",
      "2018-07-17 15:10:41,911 - __main__ - INFO - Setting headers info...\n",
      "2018-07-17 15:10:44,199 - __main__ - INFO - Loading products descriptions...\n",
      "2018-07-17 15:10:59,242 - __main__ - INFO - Loading clients descriptions...\n",
      "2018-07-17 15:10:59,571 - __main__ - INFO - Saving store counts file...\n",
      "2018-07-17 15:11:01,307 - __main__ - INFO - Saving clients count by product...\n"
     ]
    }
   ],
   "source": [
    "! python c:/Users/rahmim00/Documents/Notebooks/Clustering/pc_clustering/src/data/import_data.py"
   ]
  },
  {
   "cell_type": "markdown",
   "metadata": {},
   "source": [
    "## 2. Make dataset"
   ]
  },
  {
   "cell_type": "code",
   "execution_count": 1,
   "metadata": {},
   "outputs": [
    {
     "name": "stderr",
     "output_type": "stream",
     "text": [
      "2018-08-23 16:48:58,101 - __main__ - INFO - *** Making the final dataset from raw data ***\n",
      "2018-08-23 16:48:58,102 - __main__ - INFO - loading raw data sales file...\n",
      "2018-08-23 16:48:58,350 - __main__ - INFO - remove null sales...\n",
      "2018-08-23 16:48:58,399 - __main__ - INFO - trim empty values...\n",
      "2018-08-23 16:48:59,002 - __main__ - INFO - shit series to origin with 1 offset and range of 16 ...\n",
      "2018-08-23 16:48:59,870 - __main__ - INFO - ==> Saving raw state data to p2_raw\n",
      "2018-08-23 16:48:59,954 - __main__ - INFO - remove rare sales...\n",
      "2018-08-23 16:48:59,962 - __main__ - INFO - Smoothing the series window = 2\n",
      "2018-08-23 16:49:00,027 - __main__ - INFO - ==> Saving processed data to p2_clean\n",
      "2018-08-23 16:49:00,084 - __main__ - INFO - ==> Saving raw values data to p2_series\n"
     ]
    }
   ],
   "source": [
    "! python c:/Users/rahmim00/Documents/Notebooks/Clustering/pc_clustering/src/data/make_dataset.py 1"
   ]
  },
  {
   "cell_type": "markdown",
   "metadata": {},
   "source": [
    "## 3. Train clustering model"
   ]
  },
  {
   "cell_type": "code",
   "execution_count": 29,
   "metadata": {},
   "outputs": [
    {
     "name": "stderr",
     "output_type": "stream",
     "text": [
      "2018-08-29 10:45:01,506 - __main__ - INFO - *** Train the clustering model ***\n",
      "2018-08-29 10:45:01,623 - __main__ - INFO - Init clustering model\n",
      "2018-08-29 10:45:01,623 - __main__ - INFO - Training clustering model with 12 clusters\n",
      "2018-08-29 10:45:02,447 - __main__ - INFO - Saving model to << p2_clusters_Autumn >> \n"
     ]
    }
   ],
   "source": [
    "! python c:/Users/rahmim00/Documents/Notebooks/Clustering/pc_clustering/src/models/train_model_clustering.py Autumn --k=12 --version=99"
   ]
  },
  {
   "cell_type": "markdown",
   "metadata": {},
   "source": [
    "## 4. Build features"
   ]
  },
  {
   "cell_type": "code",
   "execution_count": 38,
   "metadata": {},
   "outputs": [
    {
     "name": "stderr",
     "output_type": "stream",
     "text": [
      "2018-09-03 14:58:57,554 - __main__ - INFO - *** Build features for classification and prediction models ***\n",
      "2018-09-03 14:58:57,554 - __main__ - INFO - Load raw sales file...\n",
      "2018-09-03 14:58:57,572 - __main__ - INFO - Load product description file...\n",
      "2018-09-03 14:58:57,993 - __main__ - INFO - Load clients count  file...\n",
      "2018-09-03 14:58:58,000 - __main__ - INFO - Load number of clients by week...\n",
      "2018-09-03 14:58:58,031 - __main__ - INFO - Feature engineering...\n",
      "2018-09-03 14:58:58,275 - __main__ - INFO - ==> Saving features file to <<clf_features>> ...\n",
      "2018-09-03 14:58:58,326 - __main__ - INFO - Dataset  6815  succefully made !\n",
      "2018-09-03 14:58:58,326 - __main__ - INFO - Creating encoders...\n"
     ]
    }
   ],
   "source": [
    "! python c:/Users/rahmim00/Documents/Notebooks/Clustering/pc_clustering/src/features/build_features.py"
   ]
  },
  {
   "cell_type": "markdown",
   "metadata": {},
   "source": [
    "## 5. Train classifier"
   ]
  },
  {
   "cell_type": "code",
   "execution_count": 39,
   "metadata": {},
   "outputs": [
    {
     "name": "stderr",
     "output_type": "stream",
     "text": [
      "2018-09-03 14:59:02,992 - __main__ - INFO - *** Train the classifier to predict clusters ***\n",
      "2018-09-03 14:59:02,992 - __main__ - INFO - Loading data file...\n",
      "2018-09-03 14:59:03,020 - __main__ - INFO - Preparing data...\n",
      "2018-09-03 14:59:03,022 - __main__ - INFO - Encoding data...\n",
      "2018-09-03 14:59:03,042 - __main__ - INFO - Training classifier...\n",
      "2018-09-03 14:59:03,219 - __main__ - INFO - Saving classifier model to << classifier_Autumn_v1.pkl >>...\n"
     ]
    }
   ],
   "source": [
    "! python c:/Users/rahmim00/Documents/Notebooks/Clustering/pc_clustering/src/models/train_model_classifier.py Autumn --version=1"
   ]
  },
  {
   "cell_type": "markdown",
   "metadata": {},
   "source": [
    "## 6. Train Predictor"
   ]
  },
  {
   "cell_type": "code",
   "execution_count": 34,
   "metadata": {},
   "outputs": [
    {
     "name": "stdout",
     "output_type": "stream",
     "text": [
      "'DataFrame' object has no attribute 'Nstore'\n"
     ]
    },
    {
     "name": "stderr",
     "output_type": "stream",
     "text": [
      "2018-08-29 10:47:29,821 - __main__ - INFO - *** Train the estimator model ***\n",
      "2018-08-29 10:47:29,821 - __main__ - INFO - Loading data file...\n"
     ]
    }
   ],
   "source": [
    "! python c:/Users/rahmim00/Documents/Notebooks/Clustering/pc_clustering/src/models/train_model_estimator.py --version=99"
   ]
  },
  {
   "cell_type": "markdown",
   "metadata": {},
   "source": [
    "## 7. New Product classification"
   ]
  },
  {
   "cell_type": "code",
   "execution_count": 8,
   "metadata": {},
   "outputs": [
    {
     "name": "stderr",
     "output_type": "stream",
     "text": [
      "2018-07-19 10:57:29,601 - __main__ - INFO - *** Build features for New Product Intorduction ***\n",
      "2018-07-19 10:57:29,602 - __main__ - INFO - Load new products file...\n",
      "2018-07-19 10:57:29,616 - __main__ - INFO - Load clients count  file...\n",
      "2018-07-19 10:57:29,620 - __main__ - INFO - Feature engineering...\n",
      "2018-07-19 10:57:29,640 - __main__ - INFO - ==> Saving features file to new_clf_features ...\n",
      "2018-07-19 10:57:29,640 - __main__ - INFO - Dataset 7 succefully made !\n"
     ]
    }
   ],
   "source": [
    "! python c:/Users/rahmim00/Documents/Notebooks/Clustering/pc_clustering/src/features/get_features.py"
   ]
  },
  {
   "cell_type": "code",
   "execution_count": 25,
   "metadata": {},
   "outputs": [],
   "source": [
    "! python c:/Users/rahmim00/Documents/Notebooks/Clustering/pc_clustering/src/models/predict_model_classifier.py"
   ]
  }
 ],
 "metadata": {
  "kernelspec": {
   "display_name": "Python (dev_py34)",
   "language": "python",
   "name": "dev_py34"
  },
  "language_info": {
   "codemirror_mode": {
    "name": "ipython",
    "version": 3
   },
   "file_extension": ".py",
   "mimetype": "text/x-python",
   "name": "python",
   "nbconvert_exporter": "python",
   "pygments_lexer": "ipython3",
   "version": "3.4.5"
  }
 },
 "nbformat": 4,
 "nbformat_minor": 2
}
