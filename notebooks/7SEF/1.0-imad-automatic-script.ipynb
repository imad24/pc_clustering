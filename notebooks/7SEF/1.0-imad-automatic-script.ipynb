{
 "cells": [
  {
   "cell_type": "markdown",
   "metadata": {},
   "source": [
    "## 1. Import data"
   ]
  },
  {
   "cell_type": "code",
   "execution_count": 40,
   "metadata": {},
   "outputs": [
    {
     "name": "stderr",
     "output_type": "stream",
     "text": [
      "2018-07-17 15:10:22,738 - __main__ - INFO - Load raw data file (Huge file, please be patient)...\n",
      "2018-07-17 15:10:41,103 - __main__ - INFO - Droping uneccessary columns...\n",
      "2018-07-17 15:10:41,911 - __main__ - INFO - Setting headers info...\n",
      "2018-07-17 15:10:44,199 - __main__ - INFO - Loading products descriptions...\n",
      "2018-07-17 15:10:59,242 - __main__ - INFO - Loading clients descriptions...\n",
      "2018-07-17 15:10:59,571 - __main__ - INFO - Saving store counts file...\n",
      "2018-07-17 15:11:01,307 - __main__ - INFO - Saving clients count by product...\n"
     ]
    }
   ],
   "source": [
    "! python c:/Users/rahmim00/Documents/Notebooks/Clustering/pc_clustering/src/data/import_data.py"
   ]
  },
  {
   "cell_type": "markdown",
   "metadata": {},
   "source": [
    "## 2. Make dataset"
   ]
  },
  {
   "cell_type": "code",
   "execution_count": 41,
   "metadata": {},
   "outputs": [
    {
     "name": "stderr",
     "output_type": "stream",
     "text": [
      "2018-07-17 15:11:09,530 - __main__ - INFO - *** Making final data set from raw data ***\n",
      "2018-07-17 15:11:09,531 - __main__ - INFO - loading raw data sales file...\n",
      "2018-07-17 15:11:09,719 - __main__ - INFO - remove null sales...\n",
      "2018-07-17 15:11:09,766 - __main__ - INFO - trim empty values...\n",
      "2018-07-17 15:11:10,322 - __main__ - INFO - shit series to origin with 1 offset and range of 16 ...\n",
      "2018-07-17 15:11:11,094 - __main__ - INFO - ==> Saving raw state data to p2_raw\n",
      "2018-07-17 15:11:11,172 - __main__ - INFO - remove rare sales...\n",
      "2018-07-17 15:11:11,187 - __main__ - INFO - Smoothing the series window = 2\n",
      "2018-07-17 15:11:11,250 - __main__ - INFO - ==> Saving processed data to p2_clean\n",
      "2018-07-17 15:11:11,297 - __main__ - INFO - ==> Saving raw values data to p2_series\n"
     ]
    }
   ],
   "source": [
    "! python c:/Users/rahmim00/Documents/Notebooks/Clustering/pc_clustering/src/data/make_dataset.py 1"
   ]
  },
  {
   "cell_type": "markdown",
   "metadata": {},
   "source": [
    "## 3. Train clustering model"
   ]
  },
  {
   "cell_type": "code",
   "execution_count": 42,
   "metadata": {},
   "outputs": [
    {
     "name": "stderr",
     "output_type": "stream",
     "text": [
      "2018-07-17 15:11:24,623 - __main__ - INFO - Running clustering model for <<Autumn>> version = 99...\n",
      "2018-07-17 15:11:24,721 - __main__ - INFO - Init clustering model\n",
      "2018-07-17 15:11:24,721 - __main__ - INFO - Running Hierarchical Clustering...\n",
      "2018-07-17 15:11:24,721 - __main__ - INFO - Running Grid Search to select the best number of clusters (greedy)...\n",
      "2018-07-17 15:11:30,618 - __main__ - INFO - the number of 11 clusters has been selected\n",
      "2018-07-17 15:11:30,618 - __main__ - INFO - Training clustering model with 11 clusters\n",
      "2018-07-17 15:11:31,383 - __main__ - INFO - Model with 11 clusters successfully saved\n"
     ]
    }
   ],
   "source": [
    "! python c:/Users/rahmim00/Documents/Notebooks/Clustering/pc_clustering/src/models/train_model_clustering.py Autumn --version=99"
   ]
  },
  {
   "cell_type": "markdown",
   "metadata": {},
   "source": [
    "## 4. Build features"
   ]
  },
  {
   "cell_type": "code",
   "execution_count": 14,
   "metadata": {},
   "outputs": [
    {
     "name": "stderr",
     "output_type": "stream",
     "text": [
      "2018-07-23 11:57:25,854 - __main__ - INFO - *** Build features for classification and prediction models ***\n",
      "2018-07-23 11:57:25,855 - __main__ - INFO - Load raw sales file...\n",
      "2018-07-23 11:57:25,872 - __main__ - INFO - Load product description file...\n",
      "2018-07-23 11:57:26,213 - __main__ - INFO - Load clients count  file...\n",
      "2018-07-23 11:57:26,229 - __main__ - INFO - Feature engineering...\n",
      "2018-07-23 11:57:26,494 - __main__ - INFO - ==> Saving features file to clf_features ...\n",
      "2018-07-23 11:57:26,526 - __main__ - INFO - Dataset  6815  succefully made !\n",
      "2018-07-23 11:57:26,526 - __main__ - INFO - Creating encoders...\n"
     ]
    }
   ],
   "source": [
    "! python c:/Users/rahmim00/Documents/Notebooks/Clustering/pc_clustering/src/features/build_features.py"
   ]
  },
  {
   "cell_type": "markdown",
   "metadata": {},
   "source": [
    "## 5. Train classifier"
   ]
  },
  {
   "cell_type": "code",
   "execution_count": 44,
   "metadata": {},
   "outputs": [
    {
     "name": "stderr",
     "output_type": "stream",
     "text": [
      "2018-07-17 15:11:36,407 - __main__ - INFO - Loading data file...\n",
      "2018-07-17 15:11:36,442 - __main__ - INFO - Preparing data...\n",
      "2018-07-17 15:11:36,445 - __main__ - INFO - Encoding data...\n",
      "2018-07-17 15:11:36,468 - __main__ - INFO - Training classifier...\n",
      "2018-07-17 15:11:36,669 - __main__ - INFO - Saving classifier model to << classifier_Autumn_v99.pkl >>...\n"
     ]
    }
   ],
   "source": [
    "! python c:/Users/rahmim00/Documents/Notebooks/Clustering/pc_clustering/src/models/train_model_classifier.py Autumn --version=99"
   ]
  },
  {
   "cell_type": "markdown",
   "metadata": {},
   "source": [
    "## 6. Train Predictor"
   ]
  },
  {
   "cell_type": "code",
   "execution_count": 56,
   "metadata": {},
   "outputs": [
    {
     "name": "stderr",
     "output_type": "stream",
     "text": [
      "2018-07-17 15:51:57,781 - __main__ - INFO - *** Train the estimator model ***\n",
      "2018-07-17 15:51:57,781 - __main__ - INFO - Loading data file...\n",
      "2018-07-17 15:51:57,812 - __main__ - INFO - Preparing data...\n",
      "2018-07-17 15:51:57,828 - __main__ - INFO - Encoding data...\n",
      "2018-07-17 15:51:57,843 - __main__ - INFO - Training regressor...\n",
      "2018-07-17 15:51:59,391 - __main__ - INFO - Saving regressor model to << regressor_std_v99.pkl >>...\n"
     ]
    }
   ],
   "source": [
    "! python c:/Users/rahmim00/Documents/Notebooks/Clustering/pc_clustering/src/models/train_model_estimator.py --version=99"
   ]
  },
  {
   "cell_type": "markdown",
   "metadata": {},
   "source": [
    "## 7. New Product classification"
   ]
  },
  {
   "cell_type": "code",
   "execution_count": 8,
   "metadata": {},
   "outputs": [
    {
     "name": "stderr",
     "output_type": "stream",
     "text": [
      "2018-07-19 10:57:29,601 - __main__ - INFO - *** Build features for New Product Intorduction ***\n",
      "2018-07-19 10:57:29,602 - __main__ - INFO - Load new products file...\n",
      "2018-07-19 10:57:29,616 - __main__ - INFO - Load clients count  file...\n",
      "2018-07-19 10:57:29,620 - __main__ - INFO - Feature engineering...\n",
      "2018-07-19 10:57:29,640 - __main__ - INFO - ==> Saving features file to new_clf_features ...\n",
      "2018-07-19 10:57:29,640 - __main__ - INFO - Dataset 7 succefully made !\n"
     ]
    }
   ],
   "source": [
    "! python c:/Users/rahmim00/Documents/Notebooks/Clustering/pc_clustering/src/features/get_features.py"
   ]
  }
 ],
 "metadata": {
  "kernelspec": {
   "display_name": "Python (dev_py34)",
   "language": "python",
   "name": "dev_py34"
  },
  "language_info": {
   "codemirror_mode": {
    "name": "ipython",
    "version": 3
   },
   "file_extension": ".py",
   "mimetype": "text/x-python",
   "name": "python",
   "nbconvert_exporter": "python",
   "pygments_lexer": "ipython3",
   "version": "3.4.5"
  }
 },
 "nbformat": 4,
 "nbformat_minor": 2
}
