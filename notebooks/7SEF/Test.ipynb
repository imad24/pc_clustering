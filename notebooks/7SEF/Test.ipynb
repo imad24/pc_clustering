{
 "cells": [
  {
   "cell_type": "code",
   "execution_count": 88,
   "metadata": {},
   "outputs": [
    {
     "name": "stdout",
     "output_type": "stream",
     "text": [
      "The autoreload extension is already loaded. To reload it, use:\n",
      "  %reload_ext autoreload\n"
     ]
    }
   ],
   "source": [
    "%load_ext autoreload\n",
    "%autoreload 1\n",
    "%matplotlib inline\n",
    "import os\n",
    "import sys\n",
    "import numpy as np\n",
    "import pandas as pd\n",
    "\n",
    "root_dir = os.path.join(os.getcwd(),os.pardir,os.pardir)\n",
    "src_dir = os.path.join(os.getcwd(), os.pardir,os.pardir, 'src')\n",
    "if src_dir not in sys.path: sys.path.append(src_dir)\n",
    "\n",
    "from data.preprocessing import load_file,filter_by_season,display_df,get_scaled_series\n",
    "from features import build_features,tools\n",
    "from visualization import visualize as viz, cluster_analysis as va\n",
    "import settings\n",
    "\n",
    "\n",
    "# %aimport data.preprocessing\n",
    "# %aimport features.build_features\n",
    "# %aimport visualization.visualize\n",
    "# %aimport visualization.cluster_analysis\n",
    "\n",
    "row_headers=settings.row_headers\n",
    "\n",
    "season = \"Autumn\"\n",
    "version = 3\n",
    "filename = \"nb_p2_clusters_%s\"%(season)\n",
    "# filename = \"p2_clusters_%s\"%(season)\n",
    "\n",
    "\n",
    "#Load files\n",
    "raw_df = load_file(\"p2_raw\").set_index(row_headers)\n",
    "series_df =load_file(\"p2_series\",type_=\"P\",version = 1).set_index(row_headers)\n",
    "clean_df = load_file(\"p2_clean\",type_=\"P\",version = 1).set_index(row_headers)\n",
    "\n",
    "#Filter and normalize\n",
    "sclean_df = filter_by_season(clean_df,season)\n",
    "zclean_df,_ =  get_scaled_series(sclean_df)\n",
    "\n",
    "#clustering result\n",
    "cluster_df = load_file(filename,index=row_headers,type_=\"M\",version=version)\n",
    "cluster_centroid = cluster_df[[\"Cluster\",\"Centroid\"]].drop_duplicates().set_index([\"Cluster\"]).to_dict()[\"Centroid\"]\n",
    "\n",
    "plot_df = clean_df.join(cluster_df,how=\"inner\")\n",
    "\n",
    "#cleaned features\n",
    "features_df = load_file('clf_features',type_=\"P\",index = row_headers)\n",
    "\n",
    "\n",
    "assert features_df is not  None\n",
    "features_df.Ldate = features_df.Ldate.apply(lambda x:str(x))\n",
    "numeric = (list(features_df.columns.to_series().groupby(features_df.dtypes).groups[np.dtype('float64')]))\n",
    "features_list = list(features_df.columns) + [\"Cluster\"]\n",
    "df = features_df.join(cluster_df,how=\"inner\")[features_list]"
   ]
  },
  {
   "cell_type": "code",
   "execution_count": null,
   "metadata": {},
   "outputs": [],
   "source": [
    "viz.cluster_plot(plot_df,centroid_only = False)"
   ]
  },
  {
   "cell_type": "code",
   "execution_count": null,
   "metadata": {},
   "outputs": [],
   "source": [
    "va.centroid_grid_plot(raw_df,clean_df,cluster_df)"
   ]
  },
  {
   "cell_type": "code",
   "execution_count": null,
   "metadata": {},
   "outputs": [],
   "source": [
    "va.centroid_grid_plot(raw_df,clean_df,cluster_df)"
   ]
  },
  {
   "cell_type": "code",
   "execution_count": 93,
   "metadata": {},
   "outputs": [],
   "source": [
    "centroids = list(set(cluster_df.Centroid))\n",
    "\n",
    "counts = cluster_df.groupby([\"Centroid\"]).count()[[\"Cluster\"]].values\n",
    "\n",
    "\n",
    "raw_profiles = series_df.loc[centroids].apply(lambda x:x/x.std(),axis=1).sort_index()\n",
    "raw_profiles[\"Count\"] = counts\n",
    "\n",
    "smoothed_profiles = clean_df.loc[centroids].apply(lambda x:x/x.std(),axis=1).sort_index()\n",
    "smoothed_profiles[\"Count\"] = counts\n",
    "\n",
    "# save_file(raw_profiles,\"profiles_%s_raw\"%season,type_=\"RP\",index=True)\n",
    "# save_file(smoothed_profiles,\"profiles_%s_smoothed\"%season,type_=\"RP\",index=True)"
   ]
  }
 ],
 "metadata": {
  "kernelspec": {
   "display_name": "Python (dev_py34)",
   "language": "python",
   "name": "dev_py34"
  },
  "language_info": {
   "codemirror_mode": {
    "name": "ipython",
    "version": 3
   },
   "file_extension": ".py",
   "mimetype": "text/x-python",
   "name": "python",
   "nbconvert_exporter": "python",
   "pygments_lexer": "ipython3",
   "version": "3.4.5"
  }
 },
 "nbformat": 4,
 "nbformat_minor": 2
}
