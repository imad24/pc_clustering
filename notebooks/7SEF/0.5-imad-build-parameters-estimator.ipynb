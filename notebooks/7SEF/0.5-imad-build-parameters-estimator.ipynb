{
 "cells": [
  {
   "cell_type": "markdown",
   "metadata": {},
   "source": [
    "# Preparing environment"
   ]
  },
  {
   "cell_type": "code",
   "execution_count": 2,
   "metadata": {},
   "outputs": [
    {
     "name": "stdout",
     "output_type": "stream",
     "text": [
      "The autoreload extension is already loaded. To reload it, use:\n",
      "  %reload_ext autoreload\n"
     ]
    }
   ],
   "source": [
    "# Load the \"autoreload\" extension\n",
    "%load_ext autoreload\n",
    "# always reload modules marked with \"%aimport\"\n",
    "%autoreload 1\n",
    "\n",
    "import os\n",
    "import sys\n",
    "# add the 'src' directory as one where we can import modules\n",
    "root_dir = os.path.join(os.getcwd(),os.pardir,os.pardir)\n",
    "src_dir = os.path.join(root_dir, 'src')\n",
    "if src_dir not in sys.path: sys.path.append(src_dir)\n",
    "    \n",
    "import math\n",
    "import copy as cp\n",
    "from datetime import datetime\n",
    "\n",
    "import numpy as np\n",
    "import pandas as pd\n",
    "\n",
    "import matplotlib.style\n",
    "import matplotlib as mpl\n",
    "import matplotlib.pyplot as plt\n",
    "import seaborn as sns\n",
    "sns.set()\n",
    "\n",
    "from sklearn.decomposition import PCA\n",
    "from sklearn.cluster import KMeans,Birch,AgglomerativeClustering\n",
    "from sklearn.manifold import TSNE\n",
    "from sklearn import preprocessing\n",
    "\n",
    "from scipy.cluster import hierarchy\n",
    "from scipy import stats\n",
    "from scipy.stats import mstats\n",
    "\n",
    "import helpers as hlp\n",
    "%aimport helpers\n",
    "from external import kMedoids\n",
    "from IPython.display import display\n",
    "\n",
    "from dotenv import find_dotenv, load_dotenv\n",
    "#Load env vars\n",
    "load_dotenv(find_dotenv())\n",
    "\n",
    "import helpers as hlp\n",
    "%aimport helpers\n",
    "from data.preprocessing import save_file,load_file,get_scaled_series,encode\n",
    "%aimport data.preprocessing\n",
    "\n",
    "import settings\n",
    "\n",
    "\n",
    "row_headers = settings.row_headers\n",
    "\n",
    "#printing\n",
    "pd.options.display.float_format = '{:,.2f}'.format\n",
    "\n",
    "subfolder = os.getenv(\"SUBFOLDER\")\n",
    "PREFIX = os.getenv(\"PREFIX\")\n",
    "raw_path = os.path.join(root_dir,\"data\\\\raw\\\\\",subfolder)\n",
    "interim_path = os.path.join(root_dir,\"data\\\\interim\\\\\",subfolder) \n",
    "processed_path = os.path.join(root_dir,\"data\\\\processed\\\\\",subfolder) \n",
    "\n",
    "reports_path = os.path.join(root_dir,\"reports\\\\\",subfolder)\n",
    "models_path = os.path.join(root_dir,\"models\\\\\",subfolder)\n",
    "\n",
    "\n"
   ]
  },
  {
   "cell_type": "markdown",
   "metadata": {},
   "source": [
    "#  Predict Quantities"
   ]
  },
  {
   "cell_type": "markdown",
   "metadata": {},
   "source": [
    "## Load product cleaned features"
   ]
  },
  {
   "cell_type": "code",
   "execution_count": 5,
   "metadata": {},
   "outputs": [
    {
     "name": "stderr",
     "output_type": "stream",
     "text": [
      "2018-07-19 10:32:54,566 - __main__ - INFO - *** Build features for classification and prediction models ***\n",
      "2018-07-19 10:32:54,566 - __main__ - INFO - Load raw sales file...\n",
      "2018-07-19 10:32:54,571 - __main__ - INFO - Load product description file...\n",
      "2018-07-19 10:32:54,911 - __main__ - INFO - Load clients count  file...\n",
      "2018-07-19 10:32:54,938 - __main__ - INFO - Feature engineering...\n",
      "2018-07-19 10:32:55,153 - __main__ - INFO - ==> Saving features file to clf_features ...\n",
      "2018-07-19 10:32:55,207 - __main__ - INFO - Data set  6815  succefully made !\n",
      "2018-07-19 10:32:55,207 - __main__ - INFO - Creating encoders...\n"
     ]
    }
   ],
   "source": [
    "! python c:/Users/rahmim00/Documents/Notebooks/Clustering/pc_clustering/src/features/build_features.py"
   ]
  },
  {
   "cell_type": "markdown",
   "metadata": {},
   "source": [
    "### Other sales series files"
   ]
  },
  {
   "cell_type": "code",
   "execution_count": 7,
   "metadata": {
    "scrolled": true
   },
   "outputs": [
    {
     "name": "stdout",
     "output_type": "stream",
     "text": [
      "Sales:  (3529, 16)\n",
      "Product Features: (6815, 11)\n",
      "Encoded Features (6815, 160)\n"
     ]
    },
    {
     "data": {
      "text/html": [
       "<div>\n",
       "<table border=\"1\" class=\"dataframe\">\n",
       "  <thead>\n",
       "    <tr style=\"text-align: right;\">\n",
       "      <th></th>\n",
       "      <th>Color</th>\n",
       "      <th>Size</th>\n",
       "      <th>Ldate</th>\n",
       "      <th>Age Group</th>\n",
       "      <th>Person</th>\n",
       "      <th>Pname</th>\n",
       "      <th>Ptype</th>\n",
       "      <th>Tprice</th>\n",
       "      <th>Currency</th>\n",
       "      <th>Sales Season</th>\n",
       "      <th>Nstore</th>\n",
       "    </tr>\n",
       "    <tr>\n",
       "      <th>Product</th>\n",
       "      <th></th>\n",
       "      <th></th>\n",
       "      <th></th>\n",
       "      <th></th>\n",
       "      <th></th>\n",
       "      <th></th>\n",
       "      <th></th>\n",
       "      <th></th>\n",
       "      <th></th>\n",
       "      <th></th>\n",
       "      <th></th>\n",
       "    </tr>\n",
       "  </thead>\n",
       "  <tbody>\n",
       "    <tr>\n",
       "      <th>3.6E+101_2</th>\n",
       "      <td>Other</td>\n",
       "      <td>Thick</td>\n",
       "      <td>36</td>\n",
       "      <td>29-38</td>\n",
       "      <td>Pregnant</td>\n",
       "      <td>One-Piece Pants</td>\n",
       "      <td>Thin</td>\n",
       "      <td>0.13</td>\n",
       "      <td>Y</td>\n",
       "      <td>Autumn</td>\n",
       "      <td>0.01</td>\n",
       "    </tr>\n",
       "    <tr>\n",
       "      <th>30E000400_2</th>\n",
       "      <td>Black</td>\n",
       "      <td>Thick</td>\n",
       "      <td>45</td>\n",
       "      <td>4-6</td>\n",
       "      <td>Girls</td>\n",
       "      <td>One Internal Pants</td>\n",
       "      <td>Thick</td>\n",
       "      <td>0.11</td>\n",
       "      <td>$</td>\n",
       "      <td>Winter</td>\n",
       "      <td>0.39</td>\n",
       "    </tr>\n",
       "    <tr>\n",
       "      <th>30E823101_2</th>\n",
       "      <td>Grey</td>\n",
       "      <td>No Size</td>\n",
       "      <td>39</td>\n",
       "      <td>4-6</td>\n",
       "      <td>Girls</td>\n",
       "      <td>One Internal Pants</td>\n",
       "      <td>Thick</td>\n",
       "      <td>0.11</td>\n",
       "      <td>$</td>\n",
       "      <td>Winter</td>\n",
       "      <td>0.08</td>\n",
       "    </tr>\n",
       "    <tr>\n",
       "      <th>30E823102_2</th>\n",
       "      <td>Grey</td>\n",
       "      <td>No Size</td>\n",
       "      <td>39</td>\n",
       "      <td>7-9</td>\n",
       "      <td>Girls</td>\n",
       "      <td>One Internal Pants</td>\n",
       "      <td>Thick</td>\n",
       "      <td>0.11</td>\n",
       "      <td>$</td>\n",
       "      <td>Winter</td>\n",
       "      <td>0.08</td>\n",
       "    </tr>\n",
       "    <tr>\n",
       "      <th>30E823103_2</th>\n",
       "      <td>Grey</td>\n",
       "      <td>No Size</td>\n",
       "      <td>39</td>\n",
       "      <td>10-15</td>\n",
       "      <td>Girls</td>\n",
       "      <td>One Internal Pants</td>\n",
       "      <td>Thick</td>\n",
       "      <td>0.11</td>\n",
       "      <td>$</td>\n",
       "      <td>Winter</td>\n",
       "      <td>0.08</td>\n",
       "    </tr>\n",
       "  </tbody>\n",
       "</table>\n",
       "</div>"
      ],
      "text/plain": [
       "             Color     Size Ldate Age Group    Person               Pname  \\\n",
       "Product                                                                     \n",
       "3.6E+101_2   Other    Thick    36     29-38  Pregnant     One-Piece Pants   \n",
       "30E000400_2  Black    Thick    45       4-6     Girls  One Internal Pants   \n",
       "30E823101_2   Grey  No Size    39       4-6     Girls  One Internal Pants   \n",
       "30E823102_2   Grey  No Size    39       7-9     Girls  One Internal Pants   \n",
       "30E823103_2   Grey  No Size    39     10-15     Girls  One Internal Pants   \n",
       "\n",
       "             Ptype  Tprice Currency Sales Season  Nstore  \n",
       "Product                                                   \n",
       "3.6E+101_2    Thin    0.13        Y       Autumn    0.01  \n",
       "30E000400_2  Thick    0.11        $       Winter    0.39  \n",
       "30E823101_2  Thick    0.11        $       Winter    0.08  \n",
       "30E823102_2  Thick    0.11        $       Winter    0.08  \n",
       "30E823103_2  Thick    0.11        $       Winter    0.08  "
      ]
     },
     "execution_count": 7,
     "metadata": {},
     "output_type": "execute_result"
    }
   ],
   "source": [
    "series_df =load_file(\"p2_series\",type_=\"P\",version = 1).set_index(row_headers)\n",
    "clean_df = load_file(\"p2_clean\",type_=\"P\",version = 1).set_index(row_headers)\n",
    "zclean_df,_ =  get_scaled_series(clean_df)\n",
    "\n",
    "\n",
    "print(\"Sales: \",clean_df.shape)\n",
    "\n",
    "#Load cleaned features for classification\n",
    "filename =\"clf_features\"\n",
    "df = load_file(filename,type_=\"P\",index = \"Product\")\n",
    "df.Ldate = df.Ldate.apply(lambda x:str(x))\n",
    "\n",
    "numeric = (list(df.columns.to_series().groupby(df.dtypes).groups[np.dtype('float64')]))\n",
    "\n",
    "#df.drop_duplicates(inplace=True)\n",
    "print(\"Product Features:\", df.shape)\n",
    "df.head()\n",
    "ohe = encode(df,non_categorical=numeric)\n",
    "print(\"Encoded Features\", ohe.shape)\n",
    "df.head(5)"
   ]
  },
  {
   "cell_type": "code",
   "execution_count": 52,
   "metadata": {},
   "outputs": [
    {
     "data": {
      "text/plain": [
       "(4949, 11)"
      ]
     },
     "execution_count": 52,
     "metadata": {},
     "output_type": "execute_result"
    }
   ],
   "source": [
    "df.drop_duplicates().shape"
   ]
  },
  {
   "cell_type": "markdown",
   "metadata": {},
   "source": [
    "### Missing Values"
   ]
  },
  {
   "cell_type": "code",
   "execution_count": 16,
   "metadata": {},
   "outputs": [
    {
     "name": "stdout",
     "output_type": "stream",
     "text": [
      "(0, 11)\n"
     ]
    },
    {
     "data": {
      "text/html": [
       "<div>\n",
       "<table border=\"1\" class=\"dataframe\">\n",
       "  <thead>\n",
       "    <tr style=\"text-align: right;\">\n",
       "      <th></th>\n",
       "      <th>Color</th>\n",
       "      <th>Size</th>\n",
       "      <th>Ldate</th>\n",
       "      <th>Age Group</th>\n",
       "      <th>Person</th>\n",
       "      <th>Pname</th>\n",
       "      <th>Ptype</th>\n",
       "      <th>Tprice</th>\n",
       "      <th>Currency</th>\n",
       "      <th>Sales Season</th>\n",
       "      <th>Nstore</th>\n",
       "    </tr>\n",
       "    <tr>\n",
       "      <th>Product</th>\n",
       "      <th></th>\n",
       "      <th></th>\n",
       "      <th></th>\n",
       "      <th></th>\n",
       "      <th></th>\n",
       "      <th></th>\n",
       "      <th></th>\n",
       "      <th></th>\n",
       "      <th></th>\n",
       "      <th></th>\n",
       "      <th></th>\n",
       "    </tr>\n",
       "  </thead>\n",
       "  <tbody>\n",
       "  </tbody>\n",
       "</table>\n",
       "</div>"
      ],
      "text/plain": [
       "Empty DataFrame\n",
       "Columns: [Color, Size, Ldate, Age Group, Person, Pname, Ptype, Tprice, Currency, Sales Season, Nstore]\n",
       "Index: []"
      ]
     },
     "execution_count": 16,
     "metadata": {},
     "output_type": "execute_result"
    }
   ],
   "source": [
    "print(df[df.Nstore==0].shape)\n",
    "df[df.Nstore==0].head()"
   ]
  },
  {
   "cell_type": "markdown",
   "metadata": {},
   "source": [
    "### Prepare training data"
   ]
  },
  {
   "cell_type": "code",
   "execution_count": 34,
   "metadata": {},
   "outputs": [
    {
     "name": "stdout",
     "output_type": "stream",
     "text": [
      "(3481, 27)\n",
      "(3481, 160) (3481,)\n"
     ]
    },
    {
     "data": {
      "text/html": [
       "<div>\n",
       "<table border=\"1\" class=\"dataframe\">\n",
       "  <thead>\n",
       "    <tr style=\"text-align: right;\">\n",
       "      <th></th>\n",
       "      <th>Person_Boys</th>\n",
       "      <th>Person_Female</th>\n",
       "      <th>Person_Girls</th>\n",
       "      <th>Person_Men</th>\n",
       "      <th>Person_Pregnant</th>\n",
       "      <th>Color_Black</th>\n",
       "      <th>Color_Blue</th>\n",
       "      <th>Color_Brown</th>\n",
       "      <th>Color_Green</th>\n",
       "      <th>Color_Grey</th>\n",
       "      <th>...</th>\n",
       "      <th>Ldate_50</th>\n",
       "      <th>Ldate_51</th>\n",
       "      <th>Ldate_52</th>\n",
       "      <th>Ldate_53</th>\n",
       "      <th>Ldate_6</th>\n",
       "      <th>Ldate_7</th>\n",
       "      <th>Ldate_8</th>\n",
       "      <th>Ldate_9</th>\n",
       "      <th>Tprice</th>\n",
       "      <th>Nstore</th>\n",
       "    </tr>\n",
       "    <tr>\n",
       "      <th>Product</th>\n",
       "      <th></th>\n",
       "      <th></th>\n",
       "      <th></th>\n",
       "      <th></th>\n",
       "      <th></th>\n",
       "      <th></th>\n",
       "      <th></th>\n",
       "      <th></th>\n",
       "      <th></th>\n",
       "      <th></th>\n",
       "      <th></th>\n",
       "      <th></th>\n",
       "      <th></th>\n",
       "      <th></th>\n",
       "      <th></th>\n",
       "      <th></th>\n",
       "      <th></th>\n",
       "      <th></th>\n",
       "      <th></th>\n",
       "      <th></th>\n",
       "      <th></th>\n",
       "    </tr>\n",
       "  </thead>\n",
       "  <tbody>\n",
       "    <tr>\n",
       "      <th>3.6E+101_2</th>\n",
       "      <td>0.00</td>\n",
       "      <td>0.00</td>\n",
       "      <td>1.00</td>\n",
       "      <td>0.00</td>\n",
       "      <td>0.00</td>\n",
       "      <td>0.00</td>\n",
       "      <td>0.00</td>\n",
       "      <td>0.00</td>\n",
       "      <td>0.00</td>\n",
       "      <td>0.00</td>\n",
       "      <td>...</td>\n",
       "      <td>0.00</td>\n",
       "      <td>0.00</td>\n",
       "      <td>0.00</td>\n",
       "      <td>0.00</td>\n",
       "      <td>0.00</td>\n",
       "      <td>1.00</td>\n",
       "      <td>0.00</td>\n",
       "      <td>0.00</td>\n",
       "      <td>0.13</td>\n",
       "      <td>0.01</td>\n",
       "    </tr>\n",
       "    <tr>\n",
       "      <th>30E000400_2</th>\n",
       "      <td>0.00</td>\n",
       "      <td>0.00</td>\n",
       "      <td>0.00</td>\n",
       "      <td>0.00</td>\n",
       "      <td>1.00</td>\n",
       "      <td>0.00</td>\n",
       "      <td>1.00</td>\n",
       "      <td>0.00</td>\n",
       "      <td>0.00</td>\n",
       "      <td>0.00</td>\n",
       "      <td>...</td>\n",
       "      <td>0.00</td>\n",
       "      <td>0.00</td>\n",
       "      <td>0.00</td>\n",
       "      <td>0.00</td>\n",
       "      <td>0.00</td>\n",
       "      <td>1.00</td>\n",
       "      <td>0.00</td>\n",
       "      <td>0.00</td>\n",
       "      <td>0.11</td>\n",
       "      <td>0.39</td>\n",
       "    </tr>\n",
       "    <tr>\n",
       "      <th>30E823101_2</th>\n",
       "      <td>0.00</td>\n",
       "      <td>0.00</td>\n",
       "      <td>0.00</td>\n",
       "      <td>0.00</td>\n",
       "      <td>1.00</td>\n",
       "      <td>0.00</td>\n",
       "      <td>0.00</td>\n",
       "      <td>0.00</td>\n",
       "      <td>0.00</td>\n",
       "      <td>0.00</td>\n",
       "      <td>...</td>\n",
       "      <td>0.00</td>\n",
       "      <td>0.00</td>\n",
       "      <td>0.00</td>\n",
       "      <td>1.00</td>\n",
       "      <td>0.00</td>\n",
       "      <td>0.00</td>\n",
       "      <td>0.00</td>\n",
       "      <td>0.00</td>\n",
       "      <td>0.11</td>\n",
       "      <td>0.08</td>\n",
       "    </tr>\n",
       "    <tr>\n",
       "      <th>30E823102_2</th>\n",
       "      <td>0.00</td>\n",
       "      <td>0.00</td>\n",
       "      <td>0.00</td>\n",
       "      <td>0.00</td>\n",
       "      <td>0.00</td>\n",
       "      <td>1.00</td>\n",
       "      <td>0.00</td>\n",
       "      <td>0.00</td>\n",
       "      <td>0.00</td>\n",
       "      <td>0.00</td>\n",
       "      <td>...</td>\n",
       "      <td>0.00</td>\n",
       "      <td>0.00</td>\n",
       "      <td>0.00</td>\n",
       "      <td>1.00</td>\n",
       "      <td>0.00</td>\n",
       "      <td>0.00</td>\n",
       "      <td>0.00</td>\n",
       "      <td>0.00</td>\n",
       "      <td>0.11</td>\n",
       "      <td>0.08</td>\n",
       "    </tr>\n",
       "    <tr>\n",
       "      <th>30E823103_2</th>\n",
       "      <td>1.00</td>\n",
       "      <td>0.00</td>\n",
       "      <td>0.00</td>\n",
       "      <td>0.00</td>\n",
       "      <td>0.00</td>\n",
       "      <td>0.00</td>\n",
       "      <td>0.00</td>\n",
       "      <td>0.00</td>\n",
       "      <td>0.00</td>\n",
       "      <td>0.00</td>\n",
       "      <td>...</td>\n",
       "      <td>0.00</td>\n",
       "      <td>0.00</td>\n",
       "      <td>0.00</td>\n",
       "      <td>1.00</td>\n",
       "      <td>0.00</td>\n",
       "      <td>0.00</td>\n",
       "      <td>0.00</td>\n",
       "      <td>0.00</td>\n",
       "      <td>0.11</td>\n",
       "      <td>0.08</td>\n",
       "    </tr>\n",
       "  </tbody>\n",
       "</table>\n",
       "<p>5 rows × 160 columns</p>\n",
       "</div>"
      ],
      "text/plain": [
       "             Person_Boys  Person_Female  Person_Girls  Person_Men  \\\n",
       "Product                                                             \n",
       "3.6E+101_2          0.00           0.00          1.00        0.00   \n",
       "30E000400_2         0.00           0.00          0.00        0.00   \n",
       "30E823101_2         0.00           0.00          0.00        0.00   \n",
       "30E823102_2         0.00           0.00          0.00        0.00   \n",
       "30E823103_2         1.00           0.00          0.00        0.00   \n",
       "\n",
       "             Person_Pregnant  Color_Black  Color_Blue  Color_Brown  \\\n",
       "Product                                                              \n",
       "3.6E+101_2              0.00         0.00        0.00         0.00   \n",
       "30E000400_2             1.00         0.00        1.00         0.00   \n",
       "30E823101_2             1.00         0.00        0.00         0.00   \n",
       "30E823102_2             0.00         1.00        0.00         0.00   \n",
       "30E823103_2             0.00         0.00        0.00         0.00   \n",
       "\n",
       "             Color_Green  Color_Grey   ...    Ldate_50  Ldate_51  Ldate_52  \\\n",
       "Product                                ...                                   \n",
       "3.6E+101_2          0.00        0.00   ...        0.00      0.00      0.00   \n",
       "30E000400_2         0.00        0.00   ...        0.00      0.00      0.00   \n",
       "30E823101_2         0.00        0.00   ...        0.00      0.00      0.00   \n",
       "30E823102_2         0.00        0.00   ...        0.00      0.00      0.00   \n",
       "30E823103_2         0.00        0.00   ...        0.00      0.00      0.00   \n",
       "\n",
       "             Ldate_53  Ldate_6  Ldate_7  Ldate_8  Ldate_9  Tprice  Nstore  \n",
       "Product                                                                    \n",
       "3.6E+101_2       0.00     0.00     1.00     0.00     0.00    0.13    0.01  \n",
       "30E000400_2      0.00     0.00     1.00     0.00     0.00    0.11    0.39  \n",
       "30E823101_2      1.00     0.00     0.00     0.00     0.00    0.11    0.08  \n",
       "30E823102_2      1.00     0.00     0.00     0.00     0.00    0.11    0.08  \n",
       "30E823103_2      1.00     0.00     0.00     0.00     0.00    0.11    0.08  \n",
       "\n",
       "[5 rows x 160 columns]"
      ]
     },
     "execution_count": 34,
     "metadata": {},
     "output_type": "execute_result"
    }
   ],
   "source": [
    "from sklearn.ensemble import RandomForestRegressor\n",
    "from sklearn.datasets import make_regression\n",
    "from sklearn.svm import SVR\n",
    "from sklearn.neural_network import MLPRegressor\n",
    "from sklearn.model_selection import cross_val_score\n",
    "from sklearn.model_selection import train_test_split  \n",
    "from sklearn.metrics import explained_variance_score,mean_squared_error,r2_score,mean_absolute_error\n",
    "\n",
    "data = df.join(clean_df,how=\"inner\")\n",
    "features = df.columns\n",
    "\n",
    "df  = df[df.Nstore != 0]\n",
    "\n",
    "print(data.shape)\n",
    "\n",
    "X_data = data[features]\n",
    "\n",
    "series = data.drop(features,axis=1)\n",
    "y_data = np.array([series.mean(axis=1), series.std(axis = 1)]).T\n",
    "y_data = np.array(series.std(axis = 1)).T\n",
    "\n",
    "#Keep the same X with features\n",
    "# X =  pd.get_dummies(X_data)\n",
    "X = encode(X_data,non_categorical = numeric)\n",
    "y = y_data\n",
    "\n",
    "\n",
    "print(X.shape,y.shape)\n",
    "X.head()"
   ]
  },
  {
   "cell_type": "markdown",
   "metadata": {},
   "source": [
    "### Train regressor"
   ]
  },
  {
   "cell_type": "code",
   "execution_count": 45,
   "metadata": {},
   "outputs": [
    {
     "name": "stdout",
     "output_type": "stream",
     "text": [
      "Train\n",
      "RMSE:  157.17357482228178\n",
      "R2:  0.899842418324\n",
      "\n",
      "Test\n",
      "RMSE:  244.25509413692478\n",
      "R2:  0.760024711055\n"
     ]
    }
   ],
   "source": [
    "X_train, X_test, y_train, y_test = train_test_split(X, y, test_size=0.2) \n",
    "regr = RandomForestRegressor(n_estimators=100,max_depth =12 )\n",
    "\n",
    "\n",
    "regr.fit(X_train, y_train)\n",
    "y_pred = regr.predict(X_test)\n",
    "yt_pred = regr.predict(X_train)\n",
    "\n",
    "MU = \"uniform_average\"\n",
    "\n",
    "\n",
    "def adjusted_r2(X,y,r_squared):\n",
    "    return r_squared\n",
    "#     return  1 - ((1-r_squared)*(len(y)-1)/(len(y)-X.shape[1]-1))\n",
    "\n",
    "\n",
    "# scores = cross_val_score(regr, X, y, cv=5, scoring='r2')\n",
    "# print(scores)\n",
    "# print(scores.mean(),np.median(scores))\n",
    "print(\"Train\")\n",
    "rmse = math.sqrt(mean_squared_error(yt_pred,y_train,multioutput=MU))\n",
    "print(\"RMSE: \",rmse)\n",
    "r2 = r2_score(yt_pred,y_train,multioutput=MU)\n",
    "print(\"R2: \",adjusted_r2(X_train,y_train,r2))\n",
    "print(\"\\nTest\")\n",
    "rmse = math.sqrt(mean_squared_error(y_pred,y_test,multioutput=MU))\n",
    "print(\"RMSE: \",rmse)\n",
    "r2 = r2_score(y_pred,y_test,multioutput=MU)\n",
    "print(\"R2: \",adjusted_r2(X_test,y_test,r2))"
   ]
  },
  {
   "cell_type": "markdown",
   "metadata": {},
   "source": [
    "### Save model"
   ]
  },
  {
   "cell_type": "code",
   "execution_count": 207,
   "metadata": {},
   "outputs": [
    {
     "data": {
      "text/plain": [
       "['C:\\\\Users\\\\rahmim00\\\\Documents\\\\Notebooks\\\\Clustering\\\\pc_clustering\\\\notebooks\\\\7SEF\\\\..\\\\..\\\\models\\\\7SEF\\\\regressor_std.pkl']"
      ]
     },
     "execution_count": 207,
     "metadata": {},
     "output_type": "execute_result"
    }
   ],
   "source": [
    "import pickle\n",
    "from sklearn.externals import joblib\n",
    "joblib.dump(regr,models_path+'regressor_std.pkl') "
   ]
  },
  {
   "cell_type": "code",
   "execution_count": 46,
   "metadata": {},
   "outputs": [
    {
     "data": {
      "image/png": "[encoded data removed]",
      "text/plain": [
       "<matplotlib.figure.Figure at 0x1d6e4748>"
      ]
     },
     "metadata": {},
     "output_type": "display_data"
    }
   ],
   "source": [
    "fi = regr.feature_importances_\n",
    "sorted_indices = np.argsort(fi)[::-1]\n",
    "\n",
    "imp = sorted_indices[:30]\n",
    "\n",
    "plt.bar(range(len(imp)),fi[imp])\n",
    "plt.xticks(range(len(imp)), X.columns[imp],rotation = 90)\n",
    "plt.show()"
   ]
  },
  {
   "cell_type": "markdown",
   "metadata": {},
   "source": [
    "\n"
   ]
  },
  {
   "cell_type": "markdown",
   "metadata": {},
   "source": [
    "\n"
   ]
  },
  {
   "cell_type": "markdown",
   "metadata": {},
   "source": [
    "\n"
   ]
  },
  {
   "cell_type": "markdown",
   "metadata": {},
   "source": [
    "\n"
   ]
  },
  {
   "cell_type": "markdown",
   "metadata": {},
   "source": [
    "\n"
   ]
  },
  {
   "cell_type": "markdown",
   "metadata": {},
   "source": [
    "\n"
   ]
  },
  {
   "cell_type": "markdown",
   "metadata": {},
   "source": [
    "\n"
   ]
  },
  {
   "cell_type": "markdown",
   "metadata": {},
   "source": [
    "\n"
   ]
  },
  {
   "cell_type": "markdown",
   "metadata": {},
   "source": [
    "\n"
   ]
  },
  {
   "cell_type": "markdown",
   "metadata": {},
   "source": [
    "\n"
   ]
  },
  {
   "cell_type": "markdown",
   "metadata": {},
   "source": [
    "\n"
   ]
  },
  {
   "cell_type": "markdown",
   "metadata": {},
   "source": [
    "\n"
   ]
  }
 ],
 "metadata": {
  "kernelspec": {
   "display_name": "Python (dev_py34)",
   "language": "python",
   "name": "dev_py34"
  },
  "language_info": {
   "codemirror_mode": {
    "name": "ipython",
    "version": 3
   },
   "file_extension": ".py",
   "mimetype": "text/x-python",
   "name": "python",
   "nbconvert_exporter": "python",
   "pygments_lexer": "ipython3",
   "version": "3.4.5"
  }
 },
 "nbformat": 4,
 "nbformat_minor": 2
}
