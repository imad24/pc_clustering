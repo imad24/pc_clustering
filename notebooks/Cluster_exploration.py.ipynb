{
 "cells": [
  {
   "cell_type": "markdown",
   "metadata": {},
   "source": [
    "# Exploring Clustering Results"
   ]
  },
  {
   "cell_type": "code",
   "execution_count": 275,
   "metadata": {},
   "outputs": [
    {
     "data": {
      "text/plain": [
       "(262, 2)"
      ]
     },
     "execution_count": 275,
     "metadata": {},
     "output_type": "execute_result"
    }
   ],
   "source": [
    "\n",
    "import pandas as pd\n",
    "import math\n",
    "import numpy as np\n",
    "\n",
    "import pandas as pd\n",
    "import numpy as np\n",
    "\n",
    "import matplotlib.pyplot as plt\n",
    "import copy as cp\n",
    "\n",
    "import seaborn as sns\n",
    "\n",
    "import statsmodels.api as sm\n",
    "\n",
    "\n",
    "from IPython.display import display\n",
    "\n",
    "processed_path = \"..\\\\data\\\\processed\\\\\"\n",
    "file_name = \"p2c1_clustering_20medoids_clean.csv\"\n",
    "\n",
    "df_prd_cluster = pd.read_csv(processed_path+file_name, sep=';', encoding='utf-8').drop('Unnamed: 0',axis=1).set_index('Product Group key')\n",
    "\n",
    "df_prd_cluster.shape\n"
   ]
  },
  {
   "cell_type": "markdown",
   "metadata": {},
   "source": [
    "## Products description"
   ]
  },
  {
   "cell_type": "code",
   "execution_count": 276,
   "metadata": {},
   "outputs": [
    {
     "data": {
      "text/plain": [
       "(315, 37)"
      ]
     },
     "execution_count": 276,
     "metadata": {},
     "output_type": "execute_result"
    }
   ],
   "source": [
    "raw_path = \"..\\\\data\\\\raw\\\\\"\n",
    "file_name = \"bnd_products_desc.csv\"\n",
    "\n",
    "df_produit = pd.read_csv(raw_path+file_name, sep=';', encoding='iso8859_2')\\\n",
    "                    .drop([\"Key\",\"Description\",\"Unit of Measure 2 Ratio\",\"Unit of Measure 4 Ratio\",\"IMBALLO\",\"STD/PROMO\",\"IMBALLO (Description)\"],axis=1)\\\n",
    "                    .drop_duplicates()\n",
    "\n",
    "\n",
    "#Join with clusters\n",
    "product_cluster = df_produit.join(df_prd_cluster,on='Product Group key',how='inner')\n",
    "\n",
    "product_cluster.shape"
   ]
  },
  {
   "cell_type": "code",
   "execution_count": 278,
   "metadata": {},
   "outputs": [],
   "source": [
    "filename = 'bnd_product_cluster_clean.csv'\n",
    "product_cluster.to_csv(processed_path+filename,sep=';',encoding='iso8859_2')"
   ]
  },
  {
   "cell_type": "code",
   "execution_count": null,
   "metadata": {},
   "outputs": [],
   "source": []
  },
  {
   "cell_type": "code",
   "execution_count": null,
   "metadata": {},
   "outputs": [],
   "source": []
  }
 ],
 "metadata": {
  "kernelspec": {
   "display_name": "Python (dev_py34)",
   "language": "python",
   "name": "dev_py34"
  },
  "language_info": {
   "codemirror_mode": {
    "name": "ipython",
    "version": 3
   },
   "file_extension": ".py",
   "mimetype": "text/x-python",
   "name": "python",
   "nbconvert_exporter": "python",
   "pygments_lexer": "ipython3",
   "version": "3.4.5"
  }
 },
 "nbformat": 4,
 "nbformat_minor": 2
}
